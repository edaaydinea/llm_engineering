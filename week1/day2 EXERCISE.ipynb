{
 "cells": [
  {
   "cell_type": "markdown",
   "id": "d15d8294-3328-4e07-ad16-8a03e9bbfdb9",
   "metadata": {},
   "source": [
    "# Welcome to your first assignment!\n",
    "\n",
    "Instructions are below. Please give this a try, and look in the solutions folder if you get stuck (or feel free to ask me!)"
   ]
  },
  {
   "cell_type": "markdown",
   "id": "ada885d9-4d42-4d9b-97f0-74fbbbfe93a9",
   "metadata": {},
   "source": [
    "<table style=\"margin: 0; text-align: left;\">\n",
    "    <tr>\n",
    "        <td style=\"width: 150px; height: 150px; vertical-align: middle;\">\n",
    "            <img src=\"../resources.jpg\" width=\"150\" height=\"150\" style=\"display: block;\" />\n",
    "        </td>\n",
    "        <td>\n",
    "            <h2 style=\"color:#f71;\">Just before we get to the assignment --</h2>\n",
    "            <span style=\"color:#f71;\">I thought I'd take a second to point you at this page of useful resources for the course. This includes links to all the slides.<br/>\n",
    "            <a href=\"https://edwarddonner.com/2024/11/13/llm-engineering-resources/\">https://edwarddonner.com/2024/11/13/llm-engineering-resources/</a><br/>\n",
    "            Please keep this bookmarked, and I'll continue to add more useful links there over time.\n",
    "            </span>\n",
    "        </td>\n",
    "    </tr>\n",
    "</table>"
   ]
  },
  {
   "cell_type": "markdown",
   "id": "6e9fa1fc-eac5-4d1d-9be4-541b3f2b3458",
   "metadata": {},
   "source": [
    "# HOMEWORK EXERCISE ASSIGNMENT\n",
    "\n",
    "Upgrade the day 1 project to summarize a webpage to use an Open Source model running locally via Ollama rather than OpenAI\n",
    "\n",
    "You'll be able to use this technique for all subsequent projects if you'd prefer not to use paid APIs.\n",
    "\n",
    "**Benefits:**\n",
    "1. No API charges - open-source\n",
    "2. Data doesn't leave your box\n",
    "\n",
    "**Disadvantages:**\n",
    "1. Significantly less power than Frontier Model\n",
    "\n",
    "## Recap on installation of Ollama\n",
    "\n",
    "Simply visit [ollama.com](https://ollama.com) and install!\n",
    "\n",
    "Once complete, the ollama server should already be running locally.  \n",
    "If you visit:  \n",
    "[http://localhost:11434/](http://localhost:11434/)\n",
    "\n",
    "You should see the message `Ollama is running`.  \n",
    "\n",
    "If not, bring up a new Terminal (Mac) or Powershell (Windows) and enter `ollama serve`  \n",
    "And in another Terminal (Mac) or Powershell (Windows), enter `ollama pull llama3.2`  \n",
    "Then try [http://localhost:11434/](http://localhost:11434/) again.\n",
    "\n",
    "If Ollama is slow on your machine, try using `llama3.2:1b` as an alternative. Run `ollama pull llama3.2:1b` from a Terminal or Powershell, and change the code below from `MODEL = \"llama3.2\"` to `MODEL = \"llama3.2:1b\"`"
   ]
  },
  {
   "cell_type": "code",
   "execution_count": 1,
   "id": "4e2a9393-7767-488e-a8bf-27c12dca35bd",
   "metadata": {},
   "outputs": [],
   "source": [
    "# imports\n",
    "\n",
    "import requests\n",
    "from bs4 import BeautifulSoup\n",
    "from IPython.display import Markdown, display"
   ]
  },
  {
   "cell_type": "code",
   "execution_count": 2,
   "id": "29ddd15d-a3c5-4f4e-a678-873f56162724",
   "metadata": {},
   "outputs": [],
   "source": [
    "# Constants\n",
    "\n",
    "OLLAMA_API = \"http://localhost:11434/api/chat\"\n",
    "HEADERS = {\"Content-Type\": \"application/json\"}\n",
    "MODEL = \"llama3.2\""
   ]
  },
  {
   "cell_type": "code",
   "execution_count": 3,
   "id": "dac0a679-599c-441f-9bf2-ddc73d35b940",
   "metadata": {},
   "outputs": [],
   "source": [
    "# Create a messages list using the same format that we used for OpenAI\n",
    "\n",
    "messages = [\n",
    "    {\"role\": \"user\", \"content\": \"Describe some of the business applications of Generative AI\"}\n",
    "]"
   ]
  },
  {
   "cell_type": "code",
   "execution_count": 4,
   "id": "7bb9c624-14f0-4945-a719-8ddb64f66f47",
   "metadata": {},
   "outputs": [],
   "source": [
    "payload = {\n",
    "        \"model\": MODEL,\n",
    "        \"messages\": messages,\n",
    "        \"stream\": False\n",
    "    }"
   ]
  },
  {
   "cell_type": "code",
   "execution_count": 5,
   "id": "479ff514-e8bd-4985-a572-2ea28bb4fa40",
   "metadata": {},
   "outputs": [
    {
     "name": "stderr",
     "output_type": "stream",
     "text": [
      "\u001b[?25lpulling manifest ⠋ \u001b[?25h\u001b[?25l\u001b[2K\u001b[1Gpulling manifest ⠙ \u001b[?25h\u001b[?25l\u001b[2K\u001b[1Gpulling manifest ⠹ \u001b[?25h\u001b[?25l\u001b[2K\u001b[1Gpulling manifest ⠸ \u001b[?25h\u001b[?25l\u001b[2K\u001b[1Gpulling manifest ⠼ \u001b[?25h\u001b[?25l\u001b[2K\u001b[1Gpulling manifest ⠴ \u001b[?25h\u001b[?25l\u001b[2K\u001b[1Gpulling manifest ⠦ \u001b[?25h\u001b[?25l\u001b[2K\u001b[1Gpulling manifest ⠧ \u001b[?25h\u001b[?25l\u001b[2K\u001b[1Gpulling manifest ⠇ \u001b[?25h\u001b[?25l\u001b[2K\u001b[1Gpulling manifest ⠏ \u001b[?25h\u001b[?25l\u001b[2K\u001b[1Gpulling manifest \n",
      "pulling dde5aa3fc5ff... 100% ▕████████████████▏ 2.0 GB                         \n",
      "pulling 966de95ca8a6... 100% ▕████████████████▏ 1.4 KB                         \n",
      "pulling fcc5a6bec9da... 100% ▕████████████████▏ 7.7 KB                         \n",
      "pulling a70ff7e570d9... 100% ▕████████████████▏ 6.0 KB                         \n",
      "pulling 56bb8bd477a5... 100% ▕████████████████▏   96 B                         \n",
      "pulling 34bb5ab01051... 100% ▕████████████████▏  561 B                         \n",
      "verifying sha256 digest \n",
      "writing manifest \n",
      "success \u001b[?25h\n"
     ]
    }
   ],
   "source": [
    "# Let's just make sure the model is loaded\n",
    "\n",
    "!ollama pull llama3.2"
   ]
  },
  {
   "cell_type": "code",
   "execution_count": 6,
   "id": "42b9f644-522d-4e05-a691-56e7658c0ea9",
   "metadata": {},
   "outputs": [
    {
     "name": "stdout",
     "output_type": "stream",
     "text": [
      "Generative AI has numerous business applications across various industries, including:\n",
      "\n",
      "1. **Content Creation**: Generative AI can be used to create high-quality content such as articles, social media posts, product descriptions, and more. This can help businesses reduce content creation costs and increase productivity.\n",
      "2. **Design and Visualization**: Generative AI can be used to generate design concepts, 3D models, and visualizations for products, architecture, and other designs. This can help businesses speed up the design process and reduce costs associated with hiring designers.\n",
      "3. **Marketing Automation**: Generative AI can be used to create personalized marketing messages, product recommendations, and customer segmentation. This can help businesses personalize their marketing efforts and improve customer engagement.\n",
      "4. **Customer Service**: Generative AI can be used to create chatbots and virtual assistants that provide 24/7 customer support. This can help businesses reduce the cost of customer service and improve response times.\n",
      "5. **Predictive Analytics**: Generative AI can be used to analyze large datasets and generate predictions about future trends, sales, and customer behavior. This can help businesses make data-driven decisions and improve their overall performance.\n",
      "6. **Product Development**: Generative AI can be used to design and optimize new products, such as electronic components, medical devices, and automotive parts. This can help businesses reduce the time and cost associated with product development.\n",
      "7. **Supply Chain Optimization**: Generative AI can be used to analyze supply chain data and generate optimized logistics plans, route optimization, and demand forecasting. This can help businesses reduce costs and improve delivery times.\n",
      "8. **Financial Analysis**: Generative AI can be used to analyze large datasets of financial transactions and generate predictions about future stock prices, credit risk, and other financial metrics. This can help businesses make data-driven investment decisions.\n",
      "9. **Sales Forecasting**: Generative AI can be used to analyze sales data and generate forecasts about future sales trends. This can help businesses improve their pricing strategies and inventory management.\n",
      "10. **Cybersecurity**: Generative AI can be used to detect and respond to cyber threats, such as identifying potential vulnerabilities in software code and generating incident response plans.\n",
      "\n",
      "Some examples of companies that are already using generative AI include:\n",
      "\n",
      "* **Microsoft** uses generative AI to personalize its Office 365 experience for users.\n",
      "* **IBM** uses generative AI to generate new product ideas and design concepts for clients.\n",
      "* **Google** uses generative AI to create personalized search results and recommendations.\n",
      "* **Amazon** uses generative AI to optimize its supply chain and logistics operations.\n",
      "\n",
      "Overall, the business applications of generative AI are vast and continue to grow as the technology advances.\n"
     ]
    }
   ],
   "source": [
    "# If this doesn't work for any reason, try the 2 versions in the following cells\n",
    "# And double check the instructions in the 'Recap on installation of Ollama' at the top of this lab\n",
    "# And if none of that works - contact me!\n",
    "\n",
    "response = requests.post(OLLAMA_API, json=payload, headers=HEADERS)\n",
    "print(response.json()['message']['content'])"
   ]
  },
  {
   "cell_type": "markdown",
   "id": "6a021f13-d6a1-4b96-8e18-4eae49d876fe",
   "metadata": {},
   "source": [
    "# Introducing the ollama package\n",
    "\n",
    "And now we'll do the same thing, but using the elegant ollama python package instead of a direct HTTP call.\n",
    "\n",
    "Under the hood, it's making the same call as above to the ollama server running at localhost:11434"
   ]
  },
  {
   "cell_type": "code",
   "execution_count": 7,
   "id": "7745b9c4-57dc-4867-9180-61fa5db55eb8",
   "metadata": {},
   "outputs": [
    {
     "name": "stdout",
     "output_type": "stream",
     "text": [
      "Generative AI has numerous business applications across various industries, including:\n",
      "\n",
      "1. **Content Generation**: AI can generate high-quality content such as articles, blog posts, social media posts, and product descriptions, reducing the need for human writers.\n",
      "2. **Marketing Automation**: Generative AI can help create personalized marketing campaigns, product recommendations, and customer emails, improving efficiency and effectiveness.\n",
      "3. **Product Design**: AI-powered design tools can generate 3D models, prototypes, and even entire product lines, streamlining the design process and reducing costs.\n",
      "4. **Customer Service Chatbots**: Generative AI can create conversational interfaces that mimic human-like responses, providing 24/7 customer support and improving user experience.\n",
      "5. **Data Analysis and Insights**: AI can analyze large datasets, identify patterns, and generate insights that inform business decisions, such as market research, competitive analysis, and predictive modeling.\n",
      "6. **Financial Services**: Generative AI can help create personalized investment portfolios, predict market trends, and detect potential fraud, improving financial decision-making.\n",
      "7. **Healthcare**: AI-powered tools can generate medical reports, diagnoses, and treatment plans, reducing the workload of clinicians and improving patient outcomes.\n",
      "8. **Education**: Generative AI can create personalized learning experiences, adaptive assessments, and educational content, enhancing student engagement and learning effectiveness.\n",
      "9. **Sales and Lead Generation**: AI-powered chatbots can engage with potential customers, generate leads, and qualify prospects, streamlining the sales process.\n",
      "10. **Product Development**: Generative AI can simulate real-world scenarios, predict market demand, and optimize product design, reducing time-to-market and improving product quality.\n",
      "\n",
      "Some specific business applications of Generative AI include:\n",
      "\n",
      "1. **Virtual Product Design**: Using AI to generate 3D models and prototypes for products such as furniture, cars, or electronics.\n",
      "2. **Personalized Customer Experience**: Using generative AI to create customized content, recommendations, and offers based on individual customer behavior.\n",
      "3. **Predictive Maintenance**: Using AI-powered predictive analytics to identify equipment failures, reducing downtime and improving maintenance efficiency.\n",
      "4. **Automated Translation**: Using generative AI to translate text, speech, or audio in real-time, improving communication with global customers.\n",
      "5. **Content Recommendation Engines**: Using AI-powered engines to recommend products, services, or content to users based on their preferences and behavior.\n",
      "\n",
      "These are just a few examples of the many business applications of Generative AI. As the technology continues to evolve, we can expect even more innovative solutions that transform industries and create new opportunities for businesses.\n"
     ]
    }
   ],
   "source": [
    "import ollama\n",
    "\n",
    "response = ollama.chat(model=MODEL, messages=messages)\n",
    "print(response['message']['content'])"
   ]
  },
  {
   "cell_type": "markdown",
   "id": "a4704e10-f5fb-4c15-a935-f046c06fb13d",
   "metadata": {},
   "source": [
    "## Alternative approach - using OpenAI python library to connect to Ollama"
   ]
  },
  {
   "cell_type": "code",
   "execution_count": 8,
   "id": "23057e00-b6fc-4678-93a9-6b31cb704bff",
   "metadata": {},
   "outputs": [
    {
     "name": "stdout",
     "output_type": "stream",
     "text": [
      "Generative AI has numerous business applications across various industries. Here are some examples:\n",
      "\n",
      "1. **Content Creation**: Generative AI can be used to create high-quality content such as product descriptions, social media posts, blog articles, and more. It can also generate entire websites, e-commerce pages, or even full-fledged marketing campaigns.\n",
      "2. **Product Design**: Generative AI can help design new products by generating 3D models, prototypes, and concept art. This enables companies to test multiple designs quickly and reduce the time and cost associated with traditional product development methods.\n",
      "3. **Image and Video Generation**: Generative AI can create realistic images and videos for various applications such as:\n",
      " * Social media and advertising\n",
      " * Product demonstrations and tutorials\n",
      " * Interactive experiences (e.g., virtual try-on)\n",
      "4. **Chatbots and Virtual Assistants**: Generative AI is used to develop conversational interfaces for chatbots, voice assistants, and other customer service platforms.\n",
      "5. **Predictive Maintenance**: Generative AI can analyze sensor data from machines to predict potential failures or maintenance needs, reducing downtime and increasing overall efficiency.\n",
      "6. **Recommendation Systems**: Generative AI can be used to create personalized product recommendations based on user behavior, preferences, and past purchases.\n",
      "7. **Customer Service Automation**: Generative AI-powered automation tools can help with tasks such as customer support, order tracking, and complaints handling.\n",
      "8. **Personalized Marketing**: Generative AI can generate targeted content, product offerings, and promotions tailored to individual customers' interests and behaviors.\n",
      "9. **Data Visualization**: Generative AI can create dynamic visualizations of complex data, enabling business analysts to extract insights more quickly and effectively.\n",
      "10. **Research and Development**: Generative AI can assist researchers by generating synthetic data, developing models for complex systems, and predicting outcomes in fields such as medicine, finance, and climate science.\n",
      "\n",
      "In terms of industries, some notable examples include:\n",
      "\n",
      "1. **Retail**: Generate personalized product recommendations, create engaging social media content, and automate customer service.\n",
      "2. **Finance**: Develop predictive risk models, generate synthetic financial data, and optimize investment strategies.\n",
      "3. **Healthcare**: Create customized treatment plans, develop novel medical therapies, and analyze patient data to improve outcomes.\n",
      "4. **Manufacturing**: Predictive maintenance, optimize production, and create personalized product designs.\n",
      "5. **Education**: Develop adaptive learning systems, generate educational content, and assess student performance.\n",
      "\n",
      "As Generative AI technology continues to evolve, we can expect to see even more innovative business applications across various industries.\n"
     ]
    }
   ],
   "source": [
    "# There's actually an alternative approach that some people might prefer\n",
    "# You can use the OpenAI client python library to call Ollama:\n",
    "\n",
    "from openai import OpenAI\n",
    "ollama_via_openai = OpenAI(base_url='http://localhost:11434/v1', api_key='ollama')\n",
    "\n",
    "response = ollama_via_openai.chat.completions.create(\n",
    "    model=MODEL,\n",
    "    messages=messages\n",
    ")\n",
    "\n",
    "print(response.choices[0].message.content)"
   ]
  },
  {
   "cell_type": "markdown",
   "id": "bc7d1de3-e2ac-46ff-a302-3b4ba38c4c90",
   "metadata": {},
   "source": [
    "## Also trying the amazing reasoning model DeepSeek\n",
    "\n",
    "Here we use the version of DeepSeek-reasoner that's been distilled to 1.5B.  \n",
    "This is actually a 1.5B variant of Qwen that has been fine-tuned using synethic data generated by Deepseek R1.\n",
    "\n",
    "Other sizes of DeepSeek are [here](https://ollama.com/library/deepseek-r1) all the way up to the full 671B parameter version, which would use up 404GB of your drive and is far too large for most!"
   ]
  },
  {
   "cell_type": "code",
   "execution_count": 9,
   "id": "cf9eb44e-fe5b-47aa-b719-0bb63669ab3d",
   "metadata": {},
   "outputs": [
    {
     "name": "stdout",
     "output_type": "stream",
     "text": [
      "^C\n"
     ]
    }
   ],
   "source": [
    "!ollama pull deepseek-r1:1.5b"
   ]
  },
  {
   "cell_type": "code",
   "execution_count": null,
   "id": "1d3d554b-e00d-4c08-9300-45e073950a76",
   "metadata": {},
   "outputs": [],
   "source": [
    "# This may take a few minutes to run! You should then see a fascinating \"thinking\" trace inside <think> tags, followed by some decent definitions\n",
    "\n",
    "response = ollama_via_openai.chat.completions.create(\n",
    "    model=\"deepseek-r1:1.5b\",\n",
    "    messages=[{\"role\": \"user\", \"content\": \"Please give definitions of some core concepts behind LLMs: a neural network, attention and the transformer\"}]\n",
    ")\n",
    "\n",
    "print(response.choices[0].message.content)"
   ]
  },
  {
   "cell_type": "markdown",
   "id": "1622d9bb-5c68-4d4e-9ca4-b492c751f898",
   "metadata": {},
   "source": [
    "# NOW the exercise for you\n",
    "\n",
    "Take the code from day1 and incorporate it here, to build a website summarizer that uses Llama 3.2 running locally instead of OpenAI; use either of the above approaches."
   ]
  },
  {
   "cell_type": "code",
   "execution_count": null,
   "id": "531f6a2e",
   "metadata": {},
   "outputs": [
    {
     "name": "stdout",
     "output_type": "stream",
     "text": [
      "The website appears to be a personal blog or portfolio of Eda AYDIN, a Data Analyst/Data Scientist with expertise in Artificial Intelligence (AI) and Machine Learning. She describes herself as an advocate for innovation in healthcare and sustainability. The content suggests that she explores the intersection of data, healthcare, and technology, aiming to provide meaningful insights from complex information.\n",
      "\n",
      "The website invites visitors to explore Eda's work experience, projects, and ideas, showcasing how AI is shaping the future of medicine and how data can drive impactful change.\n"
     ]
    }
   ],
   "source": [
    "# Function to fetch and extract the website's textual content\n",
    "def summarize_website(url, max_length=1000):\n",
    "    res = requests.get(url)\n",
    "    soup = BeautifulSoup(res.text, 'html.parser')\n",
    "    # Extract text from <p> tags\n",
    "    paragraphs = soup.find_all('p')\n",
    "    content = ' '.join(p.get_text() for p in paragraphs)\n",
    "    # Limit text length if it's too long\n",
    "    if len(content) > max_length:\n",
    "        content = content[:max_length] + '...'\n",
    "    return content\n",
    "\n",
    "# Get the website URL from the user\n",
    "url = input(\"Enter website URL: \")\n",
    "\n",
    "# Extract website content\n",
    "website_content = summarize_website(url)\n",
    "\n",
    "# Build the prompt instructing Llama 3.2 to summarize the website content\n",
    "summarize_prompt = f\"Please summarize the following website content:\\n\\n{website_content}\"\n",
    "# Create a new messages list for this task\n",
    "summarize_messages = [{\"role\": \"user\", \"content\": summarize_prompt}]\n",
    "\n",
    "# Prepare payload for the Ollama API call\n",
    "payload = {\n",
    "    \"model\": MODEL,\n",
    "    \"messages\": summarize_messages,\n",
    "    \"stream\": False\n",
    "}\n",
    "\n",
    "# Post the request to the local Ollama server and print out the summary\n",
    "response = requests.post(OLLAMA_API, json=payload, headers=HEADERS)\n",
    "print(response.json()['message']['content'])"
   ]
  }
 ],
 "metadata": {
  "kernelspec": {
   "display_name": "Python 3",
   "language": "python",
   "name": "python3"
  },
  "language_info": {
   "codemirror_mode": {
    "name": "ipython",
    "version": 3
   },
   "file_extension": ".py",
   "mimetype": "text/x-python",
   "name": "python",
   "nbconvert_exporter": "python",
   "pygments_lexer": "ipython3",
   "version": "3.12.6"
  }
 },
 "nbformat": 4,
 "nbformat_minor": 5
}
