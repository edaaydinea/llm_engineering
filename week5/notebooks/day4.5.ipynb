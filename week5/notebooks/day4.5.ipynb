{
 "cells": [
  {
   "cell_type": "markdown",
   "id": "dfe37963-1af6-44fc-a841-8e462443f5e6",
   "metadata": {},
   "source": [
    "## Expert Knowledge Worker\n",
    "\n",
    "## Extra Jupyter Notebook - Day 4.5 - switch out Chroma for FAISS!\n",
    "\n",
    "FAISS is Facebook AI Similarity Search"
   ]
  },
  {
   "cell_type": "code",
   "execution_count": 1,
   "id": "ba2779af-84ef-4227-9e9e-6eaf0df87e77",
   "metadata": {},
   "outputs": [],
   "source": [
    "# imports\n",
    "\n",
    "import os\n",
    "import glob\n",
    "from dotenv import load_dotenv\n",
    "import gradio as gr"
   ]
  },
  {
   "cell_type": "code",
   "execution_count": 2,
   "id": "802137aa-8a74-45e0-a487-d1974927d7ca",
   "metadata": {},
   "outputs": [],
   "source": [
    "# imports for langchain\n",
    "\n",
    "from langchain.document_loaders import DirectoryLoader, TextLoader\n",
    "from langchain.text_splitter import CharacterTextSplitter\n",
    "from langchain.schema import Document\n",
    "from langchain_openai import OpenAIEmbeddings, ChatOpenAI\n",
    "# from langchain_chroma import Chroma\n",
    "from langchain.vectorstores import FAISS\n",
    "import numpy as np\n",
    "from sklearn.manifold import TSNE\n",
    "import plotly.graph_objects as go\n",
    "from langchain.memory import ConversationBufferMemory\n",
    "from langchain.chains import ConversationalRetrievalChain"
   ]
  },
  {
   "cell_type": "code",
   "execution_count": 3,
   "id": "58c85082-e417-4708-9efe-81a5d55d1424",
   "metadata": {},
   "outputs": [],
   "source": [
    "# price is a factor for our company, so we're going to use a low cost model\n",
    "\n",
    "MODEL = \"gpt-4o-mini\"\n",
    "db_name = \"vector_db\""
   ]
  },
  {
   "cell_type": "code",
   "execution_count": 4,
   "id": "ee78efcb-60fe-449e-a944-40bab26261af",
   "metadata": {},
   "outputs": [],
   "source": [
    "from langchain_openai import OpenAI\n",
    "\n",
    "load_dotenv(override=True)\n",
    "token = os.getenv(\"GITHUB_TOKEN\")\n",
    "endpoint = \"https://models.inference.ai.azure.com\"\n",
    "\n",
    "openai = OpenAI(\n",
    "    base_url=endpoint,\n",
    "    api_key=token,\n",
    ")"
   ]
  },
  {
   "cell_type": "code",
   "execution_count": 11,
   "id": "730711a9-6ffe-4eee-8f48-d6cfb7314905",
   "metadata": {},
   "outputs": [],
   "source": [
    "# Read in documents using LangChain's loaders\n",
    "# Take everything in all the sub-folders of our knowledgebase\n",
    "\n",
    "folders = glob.glob(\"../knowledge-base/*\")\n",
    "\n",
    "# With thanks to CG and Jon R, students on the course, for this fix needed for some users \n",
    "text_loader_kwargs = {'encoding': 'utf-8'}\n",
    "# If that doesn't work, some Windows users might need to uncomment the next line instead\n",
    "# text_loader_kwargs={'autodetect_encoding': True}\n",
    "\n",
    "documents = []\n",
    "for folder in folders:\n",
    "    doc_type = os.path.basename(folder)\n",
    "    loader = DirectoryLoader(folder, glob=\"**/*.md\", loader_cls=TextLoader, loader_kwargs=text_loader_kwargs)\n",
    "    folder_docs = loader.load()\n",
    "    for doc in folder_docs:\n",
    "        doc.metadata[\"doc_type\"] = doc_type\n",
    "        documents.append(doc)"
   ]
  },
  {
   "cell_type": "code",
   "execution_count": 12,
   "id": "7310c9c8-03c1-4efc-a104-5e89aec6db1a",
   "metadata": {},
   "outputs": [
    {
     "name": "stderr",
     "output_type": "stream",
     "text": [
      "Created a chunk of size 1088, which is longer than the specified 1000\n"
     ]
    }
   ],
   "source": [
    "text_splitter = CharacterTextSplitter(chunk_size=1000, chunk_overlap=200)\n",
    "chunks = text_splitter.split_documents(documents)"
   ]
  },
  {
   "cell_type": "code",
   "execution_count": 13,
   "id": "cd06e02f-6d9b-44cc-a43d-e1faa8acc7bb",
   "metadata": {},
   "outputs": [
    {
     "data": {
      "text/plain": [
       "123"
      ]
     },
     "execution_count": 13,
     "metadata": {},
     "output_type": "execute_result"
    }
   ],
   "source": [
    "len(chunks)"
   ]
  },
  {
   "cell_type": "code",
   "execution_count": 14,
   "id": "2c54b4b6-06da-463d-bee7-4dd456c2b887",
   "metadata": {},
   "outputs": [
    {
     "name": "stdout",
     "output_type": "stream",
     "text": [
      "Document types found: products, employees, company, contracts\n"
     ]
    }
   ],
   "source": [
    "doc_types = set(chunk.metadata['doc_type'] for chunk in chunks)\n",
    "print(f\"Document types found: {', '.join(doc_types)}\")"
   ]
  },
  {
   "cell_type": "markdown",
   "id": "77f7d2a6-ccfa-425b-a1c3-5e55b23bd013",
   "metadata": {},
   "source": [
    "## A sidenote on Embeddings, and \"Auto-Encoding LLMs\"\n",
    "\n",
    "We will be mapping each chunk of text into a Vector that represents the meaning of the text, known as an embedding.\n",
    "\n",
    "OpenAI offers a model to do this, which we will use by calling their API with some LangChain code.\n",
    "\n",
    "This model is an example of an \"Auto-Encoding LLM\" which generates an output given a complete input.\n",
    "It's different to all the other LLMs we've discussed today, which are known as \"Auto-Regressive LLMs\", and generate future tokens based only on past context.\n",
    "\n",
    "Another example of an Auto-Encoding LLMs is BERT from Google. In addition to embedding, Auto-encoding LLMs are often used for classification.\n",
    "\n",
    "### Sidenote\n",
    "\n",
    "In week 8 we will return to RAG and vector embeddings, and we will use an open-source vector encoder so that the data never leaves our computer - that's an important consideration when building enterprise systems and the data needs to remain internal."
   ]
  },
  {
   "cell_type": "code",
   "execution_count": null,
   "id": "78998399-ac17-4e28-b15f-0b5f51e6ee23",
   "metadata": {},
   "outputs": [
    {
     "name": "stdout",
     "output_type": "stream",
     "text": [
      "There are 123 vectors with 384 dimensions in the vector store\n"
     ]
    }
   ],
   "source": [
    "# Put the chunks of data into a Vector Store that associates a Vector Embedding with each chunk\n",
    "# Chroma is a popular open source Vector Database based on SQLLite\n",
    "\n",
    "# embeddings = OpenAIEmbeddings()\n",
    "\n",
    "from langchain_huggingface import HuggingFaceEmbeddings\n",
    "\n",
    "embeddings = HuggingFaceEmbeddings(\n",
    "    model_name=\"sentence-transformers/all-MiniLM-L6-v2\"\n",
    ")\n",
    "\n",
    "# Create vectorstore\n",
    "\n",
    "# BEFORE\n",
    "# vectorstore = Chroma.from_documents(documents=chunks, embedding=embeddings, persist_directory=db_name)\n",
    "# AFTER\n",
    "vectorstore = FAISS.from_documents(chunks, embedding=embeddings)\n",
    "\n",
    "total_vectors = vectorstore.index.ntotal\n",
    "dimensions = vectorstore.index.d\n",
    "\n",
    "print(f\"There are {total_vectors} vectors with {dimensions:,} dimensions in the vector store\")"
   ]
  },
  {
   "cell_type": "code",
   "execution_count": 16,
   "id": "057868f6-51a6-4087-94d1-380145821550",
   "metadata": {},
   "outputs": [],
   "source": [
    "# Prework\n",
    "vectors = []\n",
    "documents = []\n",
    "doc_types = []\n",
    "colors = []\n",
    "color_map = {'products':'blue', 'employees':'green', 'contracts':'red', 'company':'orange'}\n",
    "\n",
    "for i in range(total_vectors):\n",
    "    vectors.append(vectorstore.index.reconstruct(i))\n",
    "    doc_id = vectorstore.index_to_docstore_id[i]\n",
    "    document = vectorstore.docstore.search(doc_id)\n",
    "    documents.append(document.page_content)\n",
    "    doc_type = document.metadata['doc_type']\n",
    "    doc_types.append(doc_type)\n",
    "    colors.append(color_map[doc_type])\n",
    "    \n",
    "vectors = np.array(vectors)"
   ]
  },
  {
   "cell_type": "markdown",
   "id": "b0d45462-a818-441c-b010-b85b32bcf618",
   "metadata": {},
   "source": [
    "## Visualizing the Vector Store\n",
    "\n",
    "Let's take a minute to look at the documents and their embedding vectors to see what's going on.\n",
    "\n",
    "(As a sidenote, what we're really looking at here is the distribution of the Vectors generated by OpenAIEmbeddings, retrieved from FAISS. So there's no surprise that they look the same whether they are \"from\" FAISS or Chroma.)"
   ]
  },
  {
   "cell_type": "code",
   "execution_count": 17,
   "id": "427149d5-e5d8-4abd-bb6f-7ef0333cca21",
   "metadata": {},
   "outputs": [
    {
     "name": "stderr",
     "output_type": "stream",
     "text": [
      "c:\\Users\\Eda AYDIN\\AppData\\Local\\Programs\\Python\\Python312\\Lib\\site-packages\\threadpoolctl.py:1214: RuntimeWarning: \n",
      "Found Intel OpenMP ('libiomp') and LLVM OpenMP ('libomp') loaded at\n",
      "the same time. Both libraries are known to be incompatible and this\n",
      "can cause random crashes or deadlocks on Linux when loaded in the\n",
      "same Python program.\n",
      "Using threadpoolctl may cause crashes or deadlocks. For more\n",
      "information and possible workarounds, please see\n",
      "    https://github.com/joblib/threadpoolctl/blob/master/multiple_openmp.md\n",
      "\n",
      "  warnings.warn(msg, RuntimeWarning)\n"
     ]
    },
    {
     "data": {
      "application/vnd.plotly.v1+json": {
       "config": {
        "plotlyServerURL": "https://plot.ly"
       },
       "data": [
        {
         "hoverinfo": "text",
         "marker": {
          "color": [
           "orange",
           "orange",
           "orange",
           "red",
           "red",
           "red",
           "red",
           "red",
           "red",
           "red",
           "red",
           "red",
           "red",
           "red",
           "red",
           "red",
           "red",
           "red",
           "red",
           "red",
           "red",
           "red",
           "red",
           "red",
           "red",
           "red",
           "red",
           "red",
           "red",
           "red",
           "red",
           "red",
           "red",
           "red",
           "red",
           "red",
           "red",
           "red",
           "red",
           "red",
           "red",
           "red",
           "red",
           "red",
           "red",
           "red",
           "red",
           "red",
           "red",
           "red",
           "red",
           "red",
           "red",
           "red",
           "red",
           "green",
           "green",
           "green",
           "green",
           "green",
           "green",
           "green",
           "green",
           "green",
           "green",
           "green",
           "green",
           "green",
           "green",
           "green",
           "green",
           "green",
           "green",
           "green",
           "green",
           "green",
           "green",
           "green",
           "green",
           "green",
           "green",
           "green",
           "green",
           "green",
           "green",
           "green",
           "green",
           "green",
           "green",
           "green",
           "green",
           "green",
           "green",
           "green",
           "green",
           "green",
           "green",
           "green",
           "green",
           "green",
           "green",
           "green",
           "blue",
           "blue",
           "blue",
           "blue",
           "blue",
           "blue",
           "blue",
           "blue",
           "blue",
           "blue",
           "blue",
           "blue",
           "blue",
           "blue",
           "blue",
           "blue",
           "blue",
           "blue",
           "blue",
           "blue",
           "blue"
          ],
          "opacity": 0.8,
          "size": 5
         },
         "mode": "markers",
         "text": [
          "Type: company<br>Text: # About Insurellm\n\nInsurellm was founded by Avery Lancaster in 2015 as an insurance tech startup des...",
          "Type: company<br>Text: # Careers at Insurellm\n\nInsurellm is hiring! We are looking for talented software engineers, data sc...",
          "Type: company<br>Text: # Overview of Insurellm\n\nInsurellm is an innovative insurance tech firm with 200 employees across th...",
          "Type: contracts<br>Text: # Contract with Apex Reinsurance for Rellm: AI-Powered Enterprise Reinsurance Solution\n\n## Terms\n\n1....",
          "Type: contracts<br>Text: ## Renewal\n\n1. **Automatic Renewal**: This Agreement will automatically renew for successive one-yea...",
          "Type: contracts<br>Text: 2. **Seamless Integrations**: The architecture of Rellm allows for easy integration with existing sy...",
          "Type: contracts<br>Text: 1. **Technical Support**: Provider shall offer dedicated technical support to the Client via phone, ...",
          "Type: contracts<br>Text: **Insurellm, Inc.**  \n_____________________________  \nAuthorized Signature   \nDate: ________________...",
          "Type: contracts<br>Text: # Contract with Belvedere Insurance for Markellm\n\n## Terms\nThis Contract (\"Agreement\") is made and e...",
          "Type: contracts<br>Text: ## Renewal\n1. **Renewal Terms**: This Agreement may be renewed for additional one-year terms upon mu...",
          "Type: contracts<br>Text: ## Features\n1. **AI-Powered Matching**: Belvedere Insurance will benefit from Markellm's AI-powered ...",
          "Type: contracts<br>Text: ## Support\n1. **Technical Support**: Technical support will be available from 9 AM to 7 PM EST, Mond...",
          "Type: contracts<br>Text: **Belvedere Insurance**  \nSignature: ______________________  \nName: [Authorized Signatory]  \nTitle: ...",
          "Type: contracts<br>Text: # Contract with BrightWay Solutions for Markellm\n\n**Contract Date:** October 5, 2023  \n**Contract ID...",
          "Type: contracts<br>Text: 3. **Service Level Agreement (SLA):**  \n   Insurellm commits to a 99.9% uptime for the platform with...",
          "Type: contracts<br>Text: 2. **Real-Time Quote Availability:**  \n   Consumers sourced via BrightWay Solutions will receive rea...",
          "Type: contracts<br>Text: 3. **Training and Onboarding:**  \n   Insurellm agrees to provide one free training session on how to...",
          "Type: contracts<br>Text: # Contract with EverGuard Insurance for Rellm: AI-Powered Enterprise Reinsurance Solution\n\n**Contrac...",
          "Type: contracts<br>Text: 4. **Usage Rights**: EverGuard Insurance is granted a non-exclusive, non-transferable license to acc...",
          "Type: contracts<br>Text: 1. **Core Functionality**: Rellm provides EverGuard Insurance with advanced AI-driven analytics, sea...",
          "Type: contracts<br>Text: 1. **Customer Support**: Insurellm will provide EverGuard Insurance with 24/7 customer support, incl...",
          "Type: contracts<br>Text: ---\n\n**Signatures**  \n**For Insurellm**: __________________________  \n**Name**: John Smith  \n**Title...",
          "Type: contracts<br>Text: # Contract with GreenField Holdings for Markellm\n\n**Effective Date:** November 15, 2023  \n**Contract...",
          "Type: contracts<br>Text: ## Renewal\n1. **Automatic Renewal**: This contract will automatically renew for sequential one-year ...",
          "Type: contracts<br>Text: ## Features\n1. **AI-Powered Matching**: Access to advanced algorithms that connect GreenField Holdin...",
          "Type: contracts<br>Text: ## Support\n1. **Customer Support Access**: The Client will have access to dedicated support through ...",
          "Type: contracts<br>Text: **Signatures:**  \n_________________________                           _________________________  \n**...",
          "Type: contracts<br>Text: # Contract with Greenstone Insurance for Homellm\n\n---\n\n## Terms\n\n1. **Parties**: This Contract (\"Agr...",
          "Type: contracts<br>Text: 4. **Payment Terms**: \n   - The Customer shall pay an amount of $10,000 per month for the Standard T...",
          "Type: contracts<br>Text: ---\n\n## Features\n\n- **AI-Powered Risk Assessment**: Customer will have access to enhanced risk evalu...",
          "Type: contracts<br>Text: - **Customer Portal**: A dedicated portal will be provided, allowing the Customer's clients to manag...",
          "Type: contracts<br>Text: ______________________________  \n[Name], [Title]  \nDate: ______________________\n\n**For Greenstone In...",
          "Type: contracts<br>Text: # Contract with GreenValley Insurance for Homellm\n\n**Contract Date:** October 6, 2023  \n**Contract N...",
          "Type: contracts<br>Text: 4. **Confidentiality:** Both parties agree to maintain the confidentiality of proprietary informatio...",
          "Type: contracts<br>Text: 1. **AI-Powered Risk Assessment:** Access to advanced AI algorithms for real-time risk evaluations.\n...",
          "Type: contracts<br>Text: 3. **Regular Updates:** Insurellm will offer ongoing updates and enhancements to the Homellm platfor...",
          "Type: contracts<br>Text: # Contract with Pinnacle Insurance Co. for Homellm\n\n## Terms\nThis contract (\"Contract\") is entered i...",
          "Type: contracts<br>Text: ## Renewal\n1. **Renewal Terms**: At the end of the initial term, this Contract shall automatically r...",
          "Type: contracts<br>Text: ## Features\n1. **AI-Powered Risk Assessment**: Utilized for tailored underwriting decisions specific...",
          "Type: contracts<br>Text: ## Support\n1. **Technical Support**: Insurellm shall provide 24/7 technical support via an email and...",
          "Type: contracts<br>Text: # Contract with Roadway Insurance Inc. for Carllm\n\n---\n\n## Terms\n\n1. **Agreement Effective Date**: T...",
          "Type: contracts<br>Text: ---\n\n## Renewal\n\n1. **Automatic Renewal**: This agreement will automatically renew for an additional...",
          "Type: contracts<br>Text: ---\n\n## Features\n\n1. **Access to Core Features**: Roadway Insurance Inc. will have access to all Pro...",
          "Type: contracts<br>Text: ---\n\n## Support\n\n1. **Technical Support**: Roadway Insurance Inc. will receive priority technical su...",
          "Type: contracts<br>Text: # Contract with Stellar Insurance Co. for Rellm\n\n## Terms\nThis contract is made between **Insurellm*...",
          "Type: contracts<br>Text: ### Termination\nEither party may terminate this agreement with a **30-day written notice**. In the e...",
          "Type: contracts<br>Text: ## Features\nStellar Insurance Co. will receive access to the following features of the Rellm product...",
          "Type: contracts<br>Text: ## Support\nInsurellm provides Stellar Insurance Co. with the following support services:\n\n- **24/7 T...",
          "Type: contracts<br>Text: # Contract with TechDrive Insurance for Carllm\n\n**Contract Date:** October 1, 2024  \n**Contract Dura...",
          "Type: contracts<br>Text: ## Renewal\n\n1. **Automatic Renewal**: This contract shall automatically renew for additional one-yea...",
          "Type: contracts<br>Text: ## Support\n\n1. **Customer Support**: Insurellm will provide 24/7 customer support to TechDrive Insur...",
          "Type: contracts<br>Text: **TechDrive Insurance Representative:**  \nName: Sarah Johnson  \nTitle: Operations Director  \nDate: _...",
          "Type: contracts<br>Text: # Contract with Velocity Auto Solutions for Carllm\n\n**Contract Date:** October 1, 2023  \n**Contract ...",
          "Type: contracts<br>Text: ## Renewal\n\n1. **Automatic Renewal**: This contract will automatically renew for successive 12-month...",
          "Type: contracts<br>Text: ## Support\n\n1. **Customer Support**: Velocity Auto Solutions will have access to Insurellm’s custome...",
          "Type: employees<br>Text: # HR Record\n\n# Alex Chen\n\n## Summary\n- **Date of Birth:** March 15, 1990  \n- **Job Title:** Backend ...",
          "Type: employees<br>Text: ## Annual Performance History\n- **2020:**  \n  - Completed onboarding successfully.  \n  - Met expecta...",
          "Type: employees<br>Text: ## Compensation History\n- **2020:** Base Salary: $80,000  \n- **2021:** Base Salary Increase to $90,0...",
          "Type: employees<br>Text: Alex Chen continues to be a vital asset at Insurellm, contributing significantly to innovative backe...",
          "Type: employees<br>Text: # HR Record\n\n# Alex Harper\n\n## Summary\n- **Date of Birth**: March 15, 1993  \n- **Job Title**: Sales ...",
          "Type: employees<br>Text: ## Annual Performance History  \n- **2021**:  \n  - **Performance Rating**: 4.5/5  \n  - **Key Achievem...",
          "Type: employees<br>Text: - **2022**:  \n  - **Base Salary**: $65,000 (Promotion to Senior SDR)  \n  - **Bonus**: $13,000 (20% o...",
          "Type: employees<br>Text: # HR Record\n\n# Alex Thomson\n\n## Summary\n- **Date of Birth:** March 15, 1995  \n- **Job Title:** Sales...",
          "Type: employees<br>Text: ## Annual Performance History  \n- **2022** - Rated as \"Exceeds Expectations.\" Alex Thomson achieved ...",
          "Type: employees<br>Text: ## Other HR Notes\n- Alex Thomson is an active member of the Diversity and Inclusion committee at Ins...",
          "Type: employees<br>Text: # Avery Lancaster\n\n## Summary\n- **Date of Birth**: March 15, 1985  \n- **Job Title**: Co-Founder & Ch...",
          "Type: employees<br>Text: - **2010 - 2013**: Business Analyst at Edge Analytics  \n  Prior to joining Innovate, Avery worked as...",
          "Type: employees<br>Text: - **2018**: **Exceeds Expectations**  \n  Under Avery’s pivoted vision, Insurellm launched two new su...",
          "Type: employees<br>Text: - **2022**: **Satisfactory**  \n  Avery focused on rebuilding team dynamics and addressing employee c...",
          "Type: employees<br>Text: ## Compensation History\n- **2015**: $150,000 base salary + Significant equity stake  \n- **2016**: $1...",
          "Type: employees<br>Text: ## Other HR Notes\n- **Professional Development**: Avery has actively participated in leadership trai...",
          "Type: employees<br>Text: # HR Record\n\n# Emily Carter\n\n## Summary\n- **Date of Birth:** August 12, 1990  \n- **Job Title:** Acco...",
          "Type: employees<br>Text: - **2017-2019:** Marketing Intern  \n  - Assisted with market research and campaign development for s...",
          "Type: employees<br>Text: ## Compensation History\n| Year | Base Salary | Bonus         | Total Compensation |\n|------|--------...",
          "Type: employees<br>Text: Emily Carter exemplifies the kind of talent that drives Insurellm's success and is an invaluable ass...",
          "Type: employees<br>Text: # HR Record\n\n# Emily Tran\n\n## Summary\n- **Date of Birth:** March 18, 1991  \n- **Job Title:** Digital...",
          "Type: employees<br>Text: - **January 2017 - May 2018**: Marketing Intern  \n  - Supported the Marketing team by collaborating ...",
          "Type: employees<br>Text: - **2021**:  \n  - Performance Rating: Meets Expectations  \n  - Key Achievements: Contributed to the ...",
          "Type: employees<br>Text: - **Professional Development Goals**:  \n  - Emily Tran aims to become a Marketing Manager within the...",
          "Type: employees<br>Text: # HR Record\n\n# Jordan Blake\n\n## Summary\n- **Date of Birth:** March 15, 1993  \n- **Job Title:** Sales...",
          "Type: employees<br>Text: ## Annual Performance History\n- **2021:** First year at Insurellm; achieved 90% of monthly targets. ...",
          "Type: employees<br>Text: ## Other HR Notes\n- Jordan has shown an interest in continuing education, actively participating in ...",
          "Type: employees<br>Text: # HR Record\n\n# Jordan K. Bishop\n\n## Summary\n- **Date of Birth:** March 15, 1990\n- **Job Title:** Fro...",
          "Type: employees<br>Text: ## Annual Performance History\n- **2019:** Exceeds Expectations - Continuously delivered high-quality...",
          "Type: employees<br>Text: ## Compensation History\n- **June 2018:** Starting Salary - $85,000\n- **June 2019:** Salary Increase ...",
          "Type: employees<br>Text: ## Other HR Notes\n- Jordan K. Bishop has been an integral part of club initiatives, including the In...",
          "Type: employees<br>Text: # HR Record\n\n# Maxine Thompson\n\n## Summary\n- **Date of Birth:** January 15, 1991  \n- **Job Title:** ...",
          "Type: employees<br>Text: ## Insurellm Career Progression\n- **January 2017 - October 2018**: **Junior Data Engineer**  \n  * Ma...",
          "Type: employees<br>Text: ## Annual Performance History\n- **2017**: *Meets Expectations*  \n  Maxine showed potential in her ro...",
          "Type: employees<br>Text: - **2021**: *Exceeds Expectations*  \n  Maxine spearheaded the transition to a new data warehousing s...",
          "Type: employees<br>Text: ## Compensation History\n- **2017**: $70,000 (Junior Data Engineer)  \n- **2018**: $75,000 (Junior Dat...",
          "Type: employees<br>Text: # HR Record\n\n# Oliver Spencer\n\n## Summary\n- **Date of Birth**: May 14, 1990  \n- **Job Title**: Backe...",
          "Type: employees<br>Text: ## Annual Performance History\n- **2018**: **3/5** - Adaptable team player but still learning to take...",
          "Type: employees<br>Text: ## Compensation History\n- **March 2018**: Initial salary of $80,000.\n- **July 2019**: Salary increas...",
          "Type: employees<br>Text: # Samantha Greene\n\n## Summary\n- **Date of Birth:** October 14, 1990\n- **Job Title:** HR Generalist\n-...",
          "Type: employees<br>Text: ## Annual Performance History\n- **2020:** Exceeds Expectations  \n  Samantha Greene demonstrated exce...",
          "Type: employees<br>Text: ## Compensation History\n- **2020:** Base Salary - $55,000  \n  The entry-level salary matched industr...",
          "Type: employees<br>Text: - **2023:** Base Salary - $70,000  \n  Recognized for substantial improvement in employee relations m...",
          "Type: employees<br>Text: # HR Record\n\n# Samuel Trenton\n\n## Summary\n- **Date of Birth:** April 12, 1989  \n- **Job Title:** Sen...",
          "Type: employees<br>Text: ## Annual Performance History\n- **2023:** Rating: 4.5/5  \n  *Samuel exceeded expectations, successfu...",
          "Type: employees<br>Text: ## Compensation History\n- **2023:** Base Salary: $115,000 + Bonus: $15,000  \n  *Annual bonus based o...",
          "Type: employees<br>Text: - **Engagement in Company Culture:** Regularly participates in team-building events and contributes ...",
          "Type: products<br>Text: # Product Summary\n\n# Carllm\n\n## Summary\n\nCarllm is an innovative auto insurance product developed by...",
          "Type: products<br>Text: - **Instant Quoting**: With Carllm, insurance companies can offer near-instant quotes to customers, ...",
          "Type: products<br>Text: - **Mobile Integration**: Carllm is designed to work seamlessly with mobile applications, providing ...",
          "Type: products<br>Text: - **Professional Tier**: $2,500/month\n  - For medium-sized companies.\n  - All Basic Tier features pl...",
          "Type: products<br>Text: ### Q2 2025: Customer Experience Improvements\n- Launch of a new **mobile app** for end-users.\n- Intr...",
          "Type: products<br>Text: # Product Summary\n\n# Homellm\n\n## Summary\nHomellm is an innovative home insurance product developed b...",
          "Type: products<br>Text: ### 2. Dynamic Pricing Model\nWith Homellm's innovative dynamic pricing model, insurance providers ca...",
          "Type: products<br>Text: ### 5. Multi-Channel Integration\nHomellm seamlessly integrates into existing insurance platforms, pr...",
          "Type: products<br>Text: - **Basic Tier:** Starting at $5,000/month for small insurers with basic integration features.\n- **S...",
          "Type: products<br>Text: All tiers include a comprehensive training program and ongoing updates to ensure optimal performance...",
          "Type: products<br>Text: With Homellm, Insurellm is committed to transforming the landscape of home insurance, ensuring both ...",
          "Type: products<br>Text: # Product Summary\n\n# Markellm\n\n## Summary\n\nMarkellm is an innovative two-sided marketplace designed ...",
          "Type: products<br>Text: - **User-Friendly Interface**: Designed with user experience in mind, Markellm features an intuitive...",
          "Type: products<br>Text: - **Customer Support**: Our dedicated support team is always available to assist both consumers and ...",
          "Type: products<br>Text: ### For Insurance Companies:\n- **Basic Listing Fee**: $199/month for a featured listing on the platf...",
          "Type: products<br>Text: ### Q3 2025\n- Initiate a comprehensive marketing campaign targeting both consumers and insurers to i...",
          "Type: products<br>Text: # Product Summary\n\n# Rellm: AI-Powered Enterprise Reinsurance Solution\n\n## Summary\n\nRellm is an inno...",
          "Type: products<br>Text: ### Seamless Integrations\nRellm's architecture is designed for effortless integration with existing ...",
          "Type: products<br>Text: ### Regulatory Compliance Tools\nRellm includes built-in compliance tracking features to help organiz...",
          "Type: products<br>Text: Join the growing number of organizations leveraging Rellm to enhance their reinsurance processes whi...",
          "Type: products<br>Text: Experience the future of reinsurance with Rellm, where innovation meets reliability. Let Insurellm h..."
         ],
         "type": "scatter",
         "x": [
          0.6236762,
          -1.9544294,
          0.39020193,
          -0.17953597,
          0.08088839,
          -2.621289,
          2.2355547,
          4.6493497,
          3.546314,
          0.42692643,
          -2.6881742,
          3.3907428,
          4.8139286,
          -4.7717505,
          -3.6066864,
          -4.3516273,
          4.0569544,
          0.13600184,
          1.1254401,
          1.1455044,
          1.761598,
          3.4338028,
          3.7749288,
          0.047814295,
          -2.1806924,
          -6.0422707,
          5.270023,
          2.0664842,
          0.9956145,
          -4.250078,
          2.8197114,
          5.7119474,
          1.5773944,
          1.0666733,
          -0.1202261,
          2.2192976,
          -2.3074656,
          0.3930941,
          -4.7231197,
          3.0973504,
          2.538426,
          -0.29252505,
          -1.4110854,
          1.4875175,
          -0.408141,
          -0.34157515,
          -0.77211356,
          0.83416253,
          2.4496636,
          2.6879346,
          1.3770221,
          1.6644546,
          3.9916306,
          3.6335678,
          4.150163,
          -1.953254,
          -2.43526,
          -3.4883792,
          -0.53622293,
          -0.2603039,
          -0.9108933,
          -0.9694104,
          0.03668508,
          -1.6536629,
          0.64571035,
          1.1855618,
          1.9729533,
          2.4048007,
          2.26496,
          -2.65295,
          1.6178675,
          -0.57996315,
          2.185891,
          0.8359586,
          3.7075565,
          1.9581611,
          1.8730676,
          0.17160358,
          2.881902,
          -0.592466,
          -1.7156113,
          0.44028184,
          -1.0553269,
          -2.3421512,
          -3.4290416,
          -0.21909373,
          -5.625408,
          -4.6162996,
          -3.6436217,
          -4.789949,
          -4.373036,
          -1.8778304,
          -2.3463552,
          -3.7809155,
          -0.29122925,
          0.19609952,
          -1.8586473,
          -0.9686965,
          -4.1182284,
          -2.0834277,
          -3.129366,
          2.3807025,
          -0.41114008,
          -1.4319986,
          -0.44852352,
          -0.18331411,
          -1.1578614,
          -2.949569,
          -3.5781956,
          -4.6169915,
          -4.737841,
          -4.0013313,
          -4.736616,
          -3.5683713,
          -4.0140166,
          -4.454161,
          -5.2565446,
          -1.7586721,
          -1.6757474,
          -1.8687551,
          -0.6258755,
          -1.6829284,
          -1.2660557
         ],
         "y": [
          -4.2078924,
          -6.9192986,
          -3.2136233,
          5.4614615,
          8.529323,
          5.3992863,
          4.8018956,
          5.31687,
          1.9925545,
          10.450463,
          0.425298,
          4.602514,
          2.194753,
          -2.3028367,
          -2.609858,
          -2.0296657,
          4.0900393,
          5.8050737,
          6.606489,
          5.961506,
          5.920775,
          5.7978735,
          2.8601735,
          10.034633,
          -0.97239405,
          -1.2384053,
          5.3416977,
          2.4916735,
          9.27785,
          1.9621973,
          3.8904681,
          3.481552,
          2.63306,
          2.741872,
          2.1404603,
          3.6062634,
          7.3939247,
          10.253534,
          1.4742225,
          4.162551,
          0.33994544,
          10.237014,
          -1.3633469,
          -0.16507736,
          6.8714385,
          7.6359067,
          4.0317345,
          4.693863,
          -0.5161599,
          -1.1128459,
          -0.95541203,
          -0.97759587,
          -0.3288248,
          -1.1853775,
          -0.4804474,
          -9.255443,
          -10.310415,
          -13.89175,
          -6.002803,
          -10.844512,
          -12.345948,
          -13.364568,
          -10.26529,
          -13.949167,
          -9.761283,
          -5.964826,
          -6.5728226,
          -6.984086,
          -6.8076634,
          -15.053802,
          -7.662102,
          -11.775038,
          -12.392689,
          -14.001977,
          -11.496308,
          -11.1898365,
          -11.4946,
          -13.00705,
          -11.7143,
          -10.330226,
          -12.818429,
          -8.758115,
          -8.457906,
          -10.964184,
          -15.437138,
          -8.285006,
          -11.742277,
          -10.652871,
          -11.568346,
          -10.38296,
          -12.185189,
          -9.029904,
          -11.335212,
          -13.473994,
          -15.438202,
          -15.182864,
          -15.59119,
          -15.567811,
          -9.190166,
          -13.373786,
          -14.20571,
          -9.651925,
          0.41556045,
          -0.24155666,
          -0.93090534,
          -0.7800928,
          0.073899485,
          2.225617,
          2.2893124,
          2.8753839,
          4.414122,
          3.577642,
          3.2014613,
          0.009652567,
          -0.3023428,
          -0.7566592,
          -0.9615907,
          0.6375012,
          2.4967976,
          4.0384264,
          4.768225,
          3.06017,
          5.3427625
         ]
        }
       ],
       "layout": {
        "height": 600,
        "margin": {
         "b": 10,
         "l": 10,
         "r": 20,
         "t": 40
        },
        "scene": {
         "xaxis": {
          "title": {
           "text": "x"
          }
         },
         "yaxis": {
          "title": {
           "text": "y"
          }
         }
        },
        "template": {
         "data": {
          "bar": [
           {
            "error_x": {
             "color": "#2a3f5f"
            },
            "error_y": {
             "color": "#2a3f5f"
            },
            "marker": {
             "line": {
              "color": "#E5ECF6",
              "width": 0.5
             },
             "pattern": {
              "fillmode": "overlay",
              "size": 10,
              "solidity": 0.2
             }
            },
            "type": "bar"
           }
          ],
          "barpolar": [
           {
            "marker": {
             "line": {
              "color": "#E5ECF6",
              "width": 0.5
             },
             "pattern": {
              "fillmode": "overlay",
              "size": 10,
              "solidity": 0.2
             }
            },
            "type": "barpolar"
           }
          ],
          "carpet": [
           {
            "aaxis": {
             "endlinecolor": "#2a3f5f",
             "gridcolor": "white",
             "linecolor": "white",
             "minorgridcolor": "white",
             "startlinecolor": "#2a3f5f"
            },
            "baxis": {
             "endlinecolor": "#2a3f5f",
             "gridcolor": "white",
             "linecolor": "white",
             "minorgridcolor": "white",
             "startlinecolor": "#2a3f5f"
            },
            "type": "carpet"
           }
          ],
          "choropleth": [
           {
            "colorbar": {
             "outlinewidth": 0,
             "ticks": ""
            },
            "type": "choropleth"
           }
          ],
          "contour": [
           {
            "colorbar": {
             "outlinewidth": 0,
             "ticks": ""
            },
            "colorscale": [
             [
              0,
              "#0d0887"
             ],
             [
              0.1111111111111111,
              "#46039f"
             ],
             [
              0.2222222222222222,
              "#7201a8"
             ],
             [
              0.3333333333333333,
              "#9c179e"
             ],
             [
              0.4444444444444444,
              "#bd3786"
             ],
             [
              0.5555555555555556,
              "#d8576b"
             ],
             [
              0.6666666666666666,
              "#ed7953"
             ],
             [
              0.7777777777777778,
              "#fb9f3a"
             ],
             [
              0.8888888888888888,
              "#fdca26"
             ],
             [
              1,
              "#f0f921"
             ]
            ],
            "type": "contour"
           }
          ],
          "contourcarpet": [
           {
            "colorbar": {
             "outlinewidth": 0,
             "ticks": ""
            },
            "type": "contourcarpet"
           }
          ],
          "heatmap": [
           {
            "colorbar": {
             "outlinewidth": 0,
             "ticks": ""
            },
            "colorscale": [
             [
              0,
              "#0d0887"
             ],
             [
              0.1111111111111111,
              "#46039f"
             ],
             [
              0.2222222222222222,
              "#7201a8"
             ],
             [
              0.3333333333333333,
              "#9c179e"
             ],
             [
              0.4444444444444444,
              "#bd3786"
             ],
             [
              0.5555555555555556,
              "#d8576b"
             ],
             [
              0.6666666666666666,
              "#ed7953"
             ],
             [
              0.7777777777777778,
              "#fb9f3a"
             ],
             [
              0.8888888888888888,
              "#fdca26"
             ],
             [
              1,
              "#f0f921"
             ]
            ],
            "type": "heatmap"
           }
          ],
          "heatmapgl": [
           {
            "colorbar": {
             "outlinewidth": 0,
             "ticks": ""
            },
            "colorscale": [
             [
              0,
              "#0d0887"
             ],
             [
              0.1111111111111111,
              "#46039f"
             ],
             [
              0.2222222222222222,
              "#7201a8"
             ],
             [
              0.3333333333333333,
              "#9c179e"
             ],
             [
              0.4444444444444444,
              "#bd3786"
             ],
             [
              0.5555555555555556,
              "#d8576b"
             ],
             [
              0.6666666666666666,
              "#ed7953"
             ],
             [
              0.7777777777777778,
              "#fb9f3a"
             ],
             [
              0.8888888888888888,
              "#fdca26"
             ],
             [
              1,
              "#f0f921"
             ]
            ],
            "type": "heatmapgl"
           }
          ],
          "histogram": [
           {
            "marker": {
             "pattern": {
              "fillmode": "overlay",
              "size": 10,
              "solidity": 0.2
             }
            },
            "type": "histogram"
           }
          ],
          "histogram2d": [
           {
            "colorbar": {
             "outlinewidth": 0,
             "ticks": ""
            },
            "colorscale": [
             [
              0,
              "#0d0887"
             ],
             [
              0.1111111111111111,
              "#46039f"
             ],
             [
              0.2222222222222222,
              "#7201a8"
             ],
             [
              0.3333333333333333,
              "#9c179e"
             ],
             [
              0.4444444444444444,
              "#bd3786"
             ],
             [
              0.5555555555555556,
              "#d8576b"
             ],
             [
              0.6666666666666666,
              "#ed7953"
             ],
             [
              0.7777777777777778,
              "#fb9f3a"
             ],
             [
              0.8888888888888888,
              "#fdca26"
             ],
             [
              1,
              "#f0f921"
             ]
            ],
            "type": "histogram2d"
           }
          ],
          "histogram2dcontour": [
           {
            "colorbar": {
             "outlinewidth": 0,
             "ticks": ""
            },
            "colorscale": [
             [
              0,
              "#0d0887"
             ],
             [
              0.1111111111111111,
              "#46039f"
             ],
             [
              0.2222222222222222,
              "#7201a8"
             ],
             [
              0.3333333333333333,
              "#9c179e"
             ],
             [
              0.4444444444444444,
              "#bd3786"
             ],
             [
              0.5555555555555556,
              "#d8576b"
             ],
             [
              0.6666666666666666,
              "#ed7953"
             ],
             [
              0.7777777777777778,
              "#fb9f3a"
             ],
             [
              0.8888888888888888,
              "#fdca26"
             ],
             [
              1,
              "#f0f921"
             ]
            ],
            "type": "histogram2dcontour"
           }
          ],
          "mesh3d": [
           {
            "colorbar": {
             "outlinewidth": 0,
             "ticks": ""
            },
            "type": "mesh3d"
           }
          ],
          "parcoords": [
           {
            "line": {
             "colorbar": {
              "outlinewidth": 0,
              "ticks": ""
             }
            },
            "type": "parcoords"
           }
          ],
          "pie": [
           {
            "automargin": true,
            "type": "pie"
           }
          ],
          "scatter": [
           {
            "fillpattern": {
             "fillmode": "overlay",
             "size": 10,
             "solidity": 0.2
            },
            "type": "scatter"
           }
          ],
          "scatter3d": [
           {
            "line": {
             "colorbar": {
              "outlinewidth": 0,
              "ticks": ""
             }
            },
            "marker": {
             "colorbar": {
              "outlinewidth": 0,
              "ticks": ""
             }
            },
            "type": "scatter3d"
           }
          ],
          "scattercarpet": [
           {
            "marker": {
             "colorbar": {
              "outlinewidth": 0,
              "ticks": ""
             }
            },
            "type": "scattercarpet"
           }
          ],
          "scattergeo": [
           {
            "marker": {
             "colorbar": {
              "outlinewidth": 0,
              "ticks": ""
             }
            },
            "type": "scattergeo"
           }
          ],
          "scattergl": [
           {
            "marker": {
             "colorbar": {
              "outlinewidth": 0,
              "ticks": ""
             }
            },
            "type": "scattergl"
           }
          ],
          "scattermapbox": [
           {
            "marker": {
             "colorbar": {
              "outlinewidth": 0,
              "ticks": ""
             }
            },
            "type": "scattermapbox"
           }
          ],
          "scatterpolar": [
           {
            "marker": {
             "colorbar": {
              "outlinewidth": 0,
              "ticks": ""
             }
            },
            "type": "scatterpolar"
           }
          ],
          "scatterpolargl": [
           {
            "marker": {
             "colorbar": {
              "outlinewidth": 0,
              "ticks": ""
             }
            },
            "type": "scatterpolargl"
           }
          ],
          "scatterternary": [
           {
            "marker": {
             "colorbar": {
              "outlinewidth": 0,
              "ticks": ""
             }
            },
            "type": "scatterternary"
           }
          ],
          "surface": [
           {
            "colorbar": {
             "outlinewidth": 0,
             "ticks": ""
            },
            "colorscale": [
             [
              0,
              "#0d0887"
             ],
             [
              0.1111111111111111,
              "#46039f"
             ],
             [
              0.2222222222222222,
              "#7201a8"
             ],
             [
              0.3333333333333333,
              "#9c179e"
             ],
             [
              0.4444444444444444,
              "#bd3786"
             ],
             [
              0.5555555555555556,
              "#d8576b"
             ],
             [
              0.6666666666666666,
              "#ed7953"
             ],
             [
              0.7777777777777778,
              "#fb9f3a"
             ],
             [
              0.8888888888888888,
              "#fdca26"
             ],
             [
              1,
              "#f0f921"
             ]
            ],
            "type": "surface"
           }
          ],
          "table": [
           {
            "cells": {
             "fill": {
              "color": "#EBF0F8"
             },
             "line": {
              "color": "white"
             }
            },
            "header": {
             "fill": {
              "color": "#C8D4E3"
             },
             "line": {
              "color": "white"
             }
            },
            "type": "table"
           }
          ]
         },
         "layout": {
          "annotationdefaults": {
           "arrowcolor": "#2a3f5f",
           "arrowhead": 0,
           "arrowwidth": 1
          },
          "autotypenumbers": "strict",
          "coloraxis": {
           "colorbar": {
            "outlinewidth": 0,
            "ticks": ""
           }
          },
          "colorscale": {
           "diverging": [
            [
             0,
             "#8e0152"
            ],
            [
             0.1,
             "#c51b7d"
            ],
            [
             0.2,
             "#de77ae"
            ],
            [
             0.3,
             "#f1b6da"
            ],
            [
             0.4,
             "#fde0ef"
            ],
            [
             0.5,
             "#f7f7f7"
            ],
            [
             0.6,
             "#e6f5d0"
            ],
            [
             0.7,
             "#b8e186"
            ],
            [
             0.8,
             "#7fbc41"
            ],
            [
             0.9,
             "#4d9221"
            ],
            [
             1,
             "#276419"
            ]
           ],
           "sequential": [
            [
             0,
             "#0d0887"
            ],
            [
             0.1111111111111111,
             "#46039f"
            ],
            [
             0.2222222222222222,
             "#7201a8"
            ],
            [
             0.3333333333333333,
             "#9c179e"
            ],
            [
             0.4444444444444444,
             "#bd3786"
            ],
            [
             0.5555555555555556,
             "#d8576b"
            ],
            [
             0.6666666666666666,
             "#ed7953"
            ],
            [
             0.7777777777777778,
             "#fb9f3a"
            ],
            [
             0.8888888888888888,
             "#fdca26"
            ],
            [
             1,
             "#f0f921"
            ]
           ],
           "sequentialminus": [
            [
             0,
             "#0d0887"
            ],
            [
             0.1111111111111111,
             "#46039f"
            ],
            [
             0.2222222222222222,
             "#7201a8"
            ],
            [
             0.3333333333333333,
             "#9c179e"
            ],
            [
             0.4444444444444444,
             "#bd3786"
            ],
            [
             0.5555555555555556,
             "#d8576b"
            ],
            [
             0.6666666666666666,
             "#ed7953"
            ],
            [
             0.7777777777777778,
             "#fb9f3a"
            ],
            [
             0.8888888888888888,
             "#fdca26"
            ],
            [
             1,
             "#f0f921"
            ]
           ]
          },
          "colorway": [
           "#636efa",
           "#EF553B",
           "#00cc96",
           "#ab63fa",
           "#FFA15A",
           "#19d3f3",
           "#FF6692",
           "#B6E880",
           "#FF97FF",
           "#FECB52"
          ],
          "font": {
           "color": "#2a3f5f"
          },
          "geo": {
           "bgcolor": "white",
           "lakecolor": "white",
           "landcolor": "#E5ECF6",
           "showlakes": true,
           "showland": true,
           "subunitcolor": "white"
          },
          "hoverlabel": {
           "align": "left"
          },
          "hovermode": "closest",
          "mapbox": {
           "style": "light"
          },
          "paper_bgcolor": "white",
          "plot_bgcolor": "#E5ECF6",
          "polar": {
           "angularaxis": {
            "gridcolor": "white",
            "linecolor": "white",
            "ticks": ""
           },
           "bgcolor": "#E5ECF6",
           "radialaxis": {
            "gridcolor": "white",
            "linecolor": "white",
            "ticks": ""
           }
          },
          "scene": {
           "xaxis": {
            "backgroundcolor": "#E5ECF6",
            "gridcolor": "white",
            "gridwidth": 2,
            "linecolor": "white",
            "showbackground": true,
            "ticks": "",
            "zerolinecolor": "white"
           },
           "yaxis": {
            "backgroundcolor": "#E5ECF6",
            "gridcolor": "white",
            "gridwidth": 2,
            "linecolor": "white",
            "showbackground": true,
            "ticks": "",
            "zerolinecolor": "white"
           },
           "zaxis": {
            "backgroundcolor": "#E5ECF6",
            "gridcolor": "white",
            "gridwidth": 2,
            "linecolor": "white",
            "showbackground": true,
            "ticks": "",
            "zerolinecolor": "white"
           }
          },
          "shapedefaults": {
           "line": {
            "color": "#2a3f5f"
           }
          },
          "ternary": {
           "aaxis": {
            "gridcolor": "white",
            "linecolor": "white",
            "ticks": ""
           },
           "baxis": {
            "gridcolor": "white",
            "linecolor": "white",
            "ticks": ""
           },
           "bgcolor": "#E5ECF6",
           "caxis": {
            "gridcolor": "white",
            "linecolor": "white",
            "ticks": ""
           }
          },
          "title": {
           "x": 0.05
          },
          "xaxis": {
           "automargin": true,
           "gridcolor": "white",
           "linecolor": "white",
           "ticks": "",
           "title": {
            "standoff": 15
           },
           "zerolinecolor": "white",
           "zerolinewidth": 2
          },
          "yaxis": {
           "automargin": true,
           "gridcolor": "white",
           "linecolor": "white",
           "ticks": "",
           "title": {
            "standoff": 15
           },
           "zerolinecolor": "white",
           "zerolinewidth": 2
          }
         }
        },
        "title": {
         "text": "2D FAISS Vector Store Visualization"
        },
        "width": 800
       }
      }
     },
     "metadata": {},
     "output_type": "display_data"
    }
   ],
   "source": [
    "# We humans find it easier to visalize things in 2D!\n",
    "# Reduce the dimensionality of the vectors to 2D using t-SNE\n",
    "# (t-distributed stochastic neighbor embedding)\n",
    "\n",
    "tsne = TSNE(n_components=2, random_state=42)\n",
    "reduced_vectors = tsne.fit_transform(vectors)\n",
    "\n",
    "# Create the 2D scatter plot\n",
    "fig = go.Figure(data=[go.Scatter(\n",
    "    x=reduced_vectors[:, 0],\n",
    "    y=reduced_vectors[:, 1],\n",
    "    mode='markers',\n",
    "    marker=dict(size=5, color=colors, opacity=0.8),\n",
    "    text=[f\"Type: {t}<br>Text: {d[:100]}...\" for t, d in zip(doc_types, documents)],\n",
    "    hoverinfo='text'\n",
    ")])\n",
    "\n",
    "fig.update_layout(\n",
    "    title='2D FAISS Vector Store Visualization',\n",
    "    scene=dict(xaxis_title='x',yaxis_title='y'),\n",
    "    width=800,\n",
    "    height=600,\n",
    "    margin=dict(r=20, b=10, l=10, t=40)\n",
    ")\n",
    "\n",
    "fig.show()"
   ]
  },
  {
   "cell_type": "code",
   "execution_count": 18,
   "id": "e1418e88-acd5-460a-bf2b-4e6efc88e3dd",
   "metadata": {},
   "outputs": [
    {
     "data": {
      "application/vnd.plotly.v1+json": {
       "config": {
        "plotlyServerURL": "https://plot.ly"
       },
       "data": [
        {
         "hoverinfo": "text",
         "marker": {
          "color": [
           "orange",
           "orange",
           "orange",
           "red",
           "red",
           "red",
           "red",
           "red",
           "red",
           "red",
           "red",
           "red",
           "red",
           "red",
           "red",
           "red",
           "red",
           "red",
           "red",
           "red",
           "red",
           "red",
           "red",
           "red",
           "red",
           "red",
           "red",
           "red",
           "red",
           "red",
           "red",
           "red",
           "red",
           "red",
           "red",
           "red",
           "red",
           "red",
           "red",
           "red",
           "red",
           "red",
           "red",
           "red",
           "red",
           "red",
           "red",
           "red",
           "red",
           "red",
           "red",
           "red",
           "red",
           "red",
           "red",
           "green",
           "green",
           "green",
           "green",
           "green",
           "green",
           "green",
           "green",
           "green",
           "green",
           "green",
           "green",
           "green",
           "green",
           "green",
           "green",
           "green",
           "green",
           "green",
           "green",
           "green",
           "green",
           "green",
           "green",
           "green",
           "green",
           "green",
           "green",
           "green",
           "green",
           "green",
           "green",
           "green",
           "green",
           "green",
           "green",
           "green",
           "green",
           "green",
           "green",
           "green",
           "green",
           "green",
           "green",
           "green",
           "green",
           "green",
           "blue",
           "blue",
           "blue",
           "blue",
           "blue",
           "blue",
           "blue",
           "blue",
           "blue",
           "blue",
           "blue",
           "blue",
           "blue",
           "blue",
           "blue",
           "blue",
           "blue",
           "blue",
           "blue",
           "blue",
           "blue"
          ],
          "opacity": 0.8,
          "size": 5
         },
         "mode": "markers",
         "text": [
          "Type: company<br>Text: # About Insurellm\n\nInsurellm was founded by Avery Lancaster in 2015 as an insurance tech startup des...",
          "Type: company<br>Text: # Careers at Insurellm\n\nInsurellm is hiring! We are looking for talented software engineers, data sc...",
          "Type: company<br>Text: # Overview of Insurellm\n\nInsurellm is an innovative insurance tech firm with 200 employees across th...",
          "Type: contracts<br>Text: # Contract with Apex Reinsurance for Rellm: AI-Powered Enterprise Reinsurance Solution\n\n## Terms\n\n1....",
          "Type: contracts<br>Text: ## Renewal\n\n1. **Automatic Renewal**: This Agreement will automatically renew for successive one-yea...",
          "Type: contracts<br>Text: 2. **Seamless Integrations**: The architecture of Rellm allows for easy integration with existing sy...",
          "Type: contracts<br>Text: 1. **Technical Support**: Provider shall offer dedicated technical support to the Client via phone, ...",
          "Type: contracts<br>Text: **Insurellm, Inc.**  \n_____________________________  \nAuthorized Signature   \nDate: ________________...",
          "Type: contracts<br>Text: # Contract with Belvedere Insurance for Markellm\n\n## Terms\nThis Contract (\"Agreement\") is made and e...",
          "Type: contracts<br>Text: ## Renewal\n1. **Renewal Terms**: This Agreement may be renewed for additional one-year terms upon mu...",
          "Type: contracts<br>Text: ## Features\n1. **AI-Powered Matching**: Belvedere Insurance will benefit from Markellm's AI-powered ...",
          "Type: contracts<br>Text: ## Support\n1. **Technical Support**: Technical support will be available from 9 AM to 7 PM EST, Mond...",
          "Type: contracts<br>Text: **Belvedere Insurance**  \nSignature: ______________________  \nName: [Authorized Signatory]  \nTitle: ...",
          "Type: contracts<br>Text: # Contract with BrightWay Solutions for Markellm\n\n**Contract Date:** October 5, 2023  \n**Contract ID...",
          "Type: contracts<br>Text: 3. **Service Level Agreement (SLA):**  \n   Insurellm commits to a 99.9% uptime for the platform with...",
          "Type: contracts<br>Text: 2. **Real-Time Quote Availability:**  \n   Consumers sourced via BrightWay Solutions will receive rea...",
          "Type: contracts<br>Text: 3. **Training and Onboarding:**  \n   Insurellm agrees to provide one free training session on how to...",
          "Type: contracts<br>Text: # Contract with EverGuard Insurance for Rellm: AI-Powered Enterprise Reinsurance Solution\n\n**Contrac...",
          "Type: contracts<br>Text: 4. **Usage Rights**: EverGuard Insurance is granted a non-exclusive, non-transferable license to acc...",
          "Type: contracts<br>Text: 1. **Core Functionality**: Rellm provides EverGuard Insurance with advanced AI-driven analytics, sea...",
          "Type: contracts<br>Text: 1. **Customer Support**: Insurellm will provide EverGuard Insurance with 24/7 customer support, incl...",
          "Type: contracts<br>Text: ---\n\n**Signatures**  \n**For Insurellm**: __________________________  \n**Name**: John Smith  \n**Title...",
          "Type: contracts<br>Text: # Contract with GreenField Holdings for Markellm\n\n**Effective Date:** November 15, 2023  \n**Contract...",
          "Type: contracts<br>Text: ## Renewal\n1. **Automatic Renewal**: This contract will automatically renew for sequential one-year ...",
          "Type: contracts<br>Text: ## Features\n1. **AI-Powered Matching**: Access to advanced algorithms that connect GreenField Holdin...",
          "Type: contracts<br>Text: ## Support\n1. **Customer Support Access**: The Client will have access to dedicated support through ...",
          "Type: contracts<br>Text: **Signatures:**  \n_________________________                           _________________________  \n**...",
          "Type: contracts<br>Text: # Contract with Greenstone Insurance for Homellm\n\n---\n\n## Terms\n\n1. **Parties**: This Contract (\"Agr...",
          "Type: contracts<br>Text: 4. **Payment Terms**: \n   - The Customer shall pay an amount of $10,000 per month for the Standard T...",
          "Type: contracts<br>Text: ---\n\n## Features\n\n- **AI-Powered Risk Assessment**: Customer will have access to enhanced risk evalu...",
          "Type: contracts<br>Text: - **Customer Portal**: A dedicated portal will be provided, allowing the Customer's clients to manag...",
          "Type: contracts<br>Text: ______________________________  \n[Name], [Title]  \nDate: ______________________\n\n**For Greenstone In...",
          "Type: contracts<br>Text: # Contract with GreenValley Insurance for Homellm\n\n**Contract Date:** October 6, 2023  \n**Contract N...",
          "Type: contracts<br>Text: 4. **Confidentiality:** Both parties agree to maintain the confidentiality of proprietary informatio...",
          "Type: contracts<br>Text: 1. **AI-Powered Risk Assessment:** Access to advanced AI algorithms for real-time risk evaluations.\n...",
          "Type: contracts<br>Text: 3. **Regular Updates:** Insurellm will offer ongoing updates and enhancements to the Homellm platfor...",
          "Type: contracts<br>Text: # Contract with Pinnacle Insurance Co. for Homellm\n\n## Terms\nThis contract (\"Contract\") is entered i...",
          "Type: contracts<br>Text: ## Renewal\n1. **Renewal Terms**: At the end of the initial term, this Contract shall automatically r...",
          "Type: contracts<br>Text: ## Features\n1. **AI-Powered Risk Assessment**: Utilized for tailored underwriting decisions specific...",
          "Type: contracts<br>Text: ## Support\n1. **Technical Support**: Insurellm shall provide 24/7 technical support via an email and...",
          "Type: contracts<br>Text: # Contract with Roadway Insurance Inc. for Carllm\n\n---\n\n## Terms\n\n1. **Agreement Effective Date**: T...",
          "Type: contracts<br>Text: ---\n\n## Renewal\n\n1. **Automatic Renewal**: This agreement will automatically renew for an additional...",
          "Type: contracts<br>Text: ---\n\n## Features\n\n1. **Access to Core Features**: Roadway Insurance Inc. will have access to all Pro...",
          "Type: contracts<br>Text: ---\n\n## Support\n\n1. **Technical Support**: Roadway Insurance Inc. will receive priority technical su...",
          "Type: contracts<br>Text: # Contract with Stellar Insurance Co. for Rellm\n\n## Terms\nThis contract is made between **Insurellm*...",
          "Type: contracts<br>Text: ### Termination\nEither party may terminate this agreement with a **30-day written notice**. In the e...",
          "Type: contracts<br>Text: ## Features\nStellar Insurance Co. will receive access to the following features of the Rellm product...",
          "Type: contracts<br>Text: ## Support\nInsurellm provides Stellar Insurance Co. with the following support services:\n\n- **24/7 T...",
          "Type: contracts<br>Text: # Contract with TechDrive Insurance for Carllm\n\n**Contract Date:** October 1, 2024  \n**Contract Dura...",
          "Type: contracts<br>Text: ## Renewal\n\n1. **Automatic Renewal**: This contract shall automatically renew for additional one-yea...",
          "Type: contracts<br>Text: ## Support\n\n1. **Customer Support**: Insurellm will provide 24/7 customer support to TechDrive Insur...",
          "Type: contracts<br>Text: **TechDrive Insurance Representative:**  \nName: Sarah Johnson  \nTitle: Operations Director  \nDate: _...",
          "Type: contracts<br>Text: # Contract with Velocity Auto Solutions for Carllm\n\n**Contract Date:** October 1, 2023  \n**Contract ...",
          "Type: contracts<br>Text: ## Renewal\n\n1. **Automatic Renewal**: This contract will automatically renew for successive 12-month...",
          "Type: contracts<br>Text: ## Support\n\n1. **Customer Support**: Velocity Auto Solutions will have access to Insurellm’s custome...",
          "Type: employees<br>Text: # HR Record\n\n# Alex Chen\n\n## Summary\n- **Date of Birth:** March 15, 1990  \n- **Job Title:** Backend ...",
          "Type: employees<br>Text: ## Annual Performance History\n- **2020:**  \n  - Completed onboarding successfully.  \n  - Met expecta...",
          "Type: employees<br>Text: ## Compensation History\n- **2020:** Base Salary: $80,000  \n- **2021:** Base Salary Increase to $90,0...",
          "Type: employees<br>Text: Alex Chen continues to be a vital asset at Insurellm, contributing significantly to innovative backe...",
          "Type: employees<br>Text: # HR Record\n\n# Alex Harper\n\n## Summary\n- **Date of Birth**: March 15, 1993  \n- **Job Title**: Sales ...",
          "Type: employees<br>Text: ## Annual Performance History  \n- **2021**:  \n  - **Performance Rating**: 4.5/5  \n  - **Key Achievem...",
          "Type: employees<br>Text: - **2022**:  \n  - **Base Salary**: $65,000 (Promotion to Senior SDR)  \n  - **Bonus**: $13,000 (20% o...",
          "Type: employees<br>Text: # HR Record\n\n# Alex Thomson\n\n## Summary\n- **Date of Birth:** March 15, 1995  \n- **Job Title:** Sales...",
          "Type: employees<br>Text: ## Annual Performance History  \n- **2022** - Rated as \"Exceeds Expectations.\" Alex Thomson achieved ...",
          "Type: employees<br>Text: ## Other HR Notes\n- Alex Thomson is an active member of the Diversity and Inclusion committee at Ins...",
          "Type: employees<br>Text: # Avery Lancaster\n\n## Summary\n- **Date of Birth**: March 15, 1985  \n- **Job Title**: Co-Founder & Ch...",
          "Type: employees<br>Text: - **2010 - 2013**: Business Analyst at Edge Analytics  \n  Prior to joining Innovate, Avery worked as...",
          "Type: employees<br>Text: - **2018**: **Exceeds Expectations**  \n  Under Avery’s pivoted vision, Insurellm launched two new su...",
          "Type: employees<br>Text: - **2022**: **Satisfactory**  \n  Avery focused on rebuilding team dynamics and addressing employee c...",
          "Type: employees<br>Text: ## Compensation History\n- **2015**: $150,000 base salary + Significant equity stake  \n- **2016**: $1...",
          "Type: employees<br>Text: ## Other HR Notes\n- **Professional Development**: Avery has actively participated in leadership trai...",
          "Type: employees<br>Text: # HR Record\n\n# Emily Carter\n\n## Summary\n- **Date of Birth:** August 12, 1990  \n- **Job Title:** Acco...",
          "Type: employees<br>Text: - **2017-2019:** Marketing Intern  \n  - Assisted with market research and campaign development for s...",
          "Type: employees<br>Text: ## Compensation History\n| Year | Base Salary | Bonus         | Total Compensation |\n|------|--------...",
          "Type: employees<br>Text: Emily Carter exemplifies the kind of talent that drives Insurellm's success and is an invaluable ass...",
          "Type: employees<br>Text: # HR Record\n\n# Emily Tran\n\n## Summary\n- **Date of Birth:** March 18, 1991  \n- **Job Title:** Digital...",
          "Type: employees<br>Text: - **January 2017 - May 2018**: Marketing Intern  \n  - Supported the Marketing team by collaborating ...",
          "Type: employees<br>Text: - **2021**:  \n  - Performance Rating: Meets Expectations  \n  - Key Achievements: Contributed to the ...",
          "Type: employees<br>Text: - **Professional Development Goals**:  \n  - Emily Tran aims to become a Marketing Manager within the...",
          "Type: employees<br>Text: # HR Record\n\n# Jordan Blake\n\n## Summary\n- **Date of Birth:** March 15, 1993  \n- **Job Title:** Sales...",
          "Type: employees<br>Text: ## Annual Performance History\n- **2021:** First year at Insurellm; achieved 90% of monthly targets. ...",
          "Type: employees<br>Text: ## Other HR Notes\n- Jordan has shown an interest in continuing education, actively participating in ...",
          "Type: employees<br>Text: # HR Record\n\n# Jordan K. Bishop\n\n## Summary\n- **Date of Birth:** March 15, 1990\n- **Job Title:** Fro...",
          "Type: employees<br>Text: ## Annual Performance History\n- **2019:** Exceeds Expectations - Continuously delivered high-quality...",
          "Type: employees<br>Text: ## Compensation History\n- **June 2018:** Starting Salary - $85,000\n- **June 2019:** Salary Increase ...",
          "Type: employees<br>Text: ## Other HR Notes\n- Jordan K. Bishop has been an integral part of club initiatives, including the In...",
          "Type: employees<br>Text: # HR Record\n\n# Maxine Thompson\n\n## Summary\n- **Date of Birth:** January 15, 1991  \n- **Job Title:** ...",
          "Type: employees<br>Text: ## Insurellm Career Progression\n- **January 2017 - October 2018**: **Junior Data Engineer**  \n  * Ma...",
          "Type: employees<br>Text: ## Annual Performance History\n- **2017**: *Meets Expectations*  \n  Maxine showed potential in her ro...",
          "Type: employees<br>Text: - **2021**: *Exceeds Expectations*  \n  Maxine spearheaded the transition to a new data warehousing s...",
          "Type: employees<br>Text: ## Compensation History\n- **2017**: $70,000 (Junior Data Engineer)  \n- **2018**: $75,000 (Junior Dat...",
          "Type: employees<br>Text: # HR Record\n\n# Oliver Spencer\n\n## Summary\n- **Date of Birth**: May 14, 1990  \n- **Job Title**: Backe...",
          "Type: employees<br>Text: ## Annual Performance History\n- **2018**: **3/5** - Adaptable team player but still learning to take...",
          "Type: employees<br>Text: ## Compensation History\n- **March 2018**: Initial salary of $80,000.\n- **July 2019**: Salary increas...",
          "Type: employees<br>Text: # Samantha Greene\n\n## Summary\n- **Date of Birth:** October 14, 1990\n- **Job Title:** HR Generalist\n-...",
          "Type: employees<br>Text: ## Annual Performance History\n- **2020:** Exceeds Expectations  \n  Samantha Greene demonstrated exce...",
          "Type: employees<br>Text: ## Compensation History\n- **2020:** Base Salary - $55,000  \n  The entry-level salary matched industr...",
          "Type: employees<br>Text: - **2023:** Base Salary - $70,000  \n  Recognized for substantial improvement in employee relations m...",
          "Type: employees<br>Text: # HR Record\n\n# Samuel Trenton\n\n## Summary\n- **Date of Birth:** April 12, 1989  \n- **Job Title:** Sen...",
          "Type: employees<br>Text: ## Annual Performance History\n- **2023:** Rating: 4.5/5  \n  *Samuel exceeded expectations, successfu...",
          "Type: employees<br>Text: ## Compensation History\n- **2023:** Base Salary: $115,000 + Bonus: $15,000  \n  *Annual bonus based o...",
          "Type: employees<br>Text: - **Engagement in Company Culture:** Regularly participates in team-building events and contributes ...",
          "Type: products<br>Text: # Product Summary\n\n# Carllm\n\n## Summary\n\nCarllm is an innovative auto insurance product developed by...",
          "Type: products<br>Text: - **Instant Quoting**: With Carllm, insurance companies can offer near-instant quotes to customers, ...",
          "Type: products<br>Text: - **Mobile Integration**: Carllm is designed to work seamlessly with mobile applications, providing ...",
          "Type: products<br>Text: - **Professional Tier**: $2,500/month\n  - For medium-sized companies.\n  - All Basic Tier features pl...",
          "Type: products<br>Text: ### Q2 2025: Customer Experience Improvements\n- Launch of a new **mobile app** for end-users.\n- Intr...",
          "Type: products<br>Text: # Product Summary\n\n# Homellm\n\n## Summary\nHomellm is an innovative home insurance product developed b...",
          "Type: products<br>Text: ### 2. Dynamic Pricing Model\nWith Homellm's innovative dynamic pricing model, insurance providers ca...",
          "Type: products<br>Text: ### 5. Multi-Channel Integration\nHomellm seamlessly integrates into existing insurance platforms, pr...",
          "Type: products<br>Text: - **Basic Tier:** Starting at $5,000/month for small insurers with basic integration features.\n- **S...",
          "Type: products<br>Text: All tiers include a comprehensive training program and ongoing updates to ensure optimal performance...",
          "Type: products<br>Text: With Homellm, Insurellm is committed to transforming the landscape of home insurance, ensuring both ...",
          "Type: products<br>Text: # Product Summary\n\n# Markellm\n\n## Summary\n\nMarkellm is an innovative two-sided marketplace designed ...",
          "Type: products<br>Text: - **User-Friendly Interface**: Designed with user experience in mind, Markellm features an intuitive...",
          "Type: products<br>Text: - **Customer Support**: Our dedicated support team is always available to assist both consumers and ...",
          "Type: products<br>Text: ### For Insurance Companies:\n- **Basic Listing Fee**: $199/month for a featured listing on the platf...",
          "Type: products<br>Text: ### Q3 2025\n- Initiate a comprehensive marketing campaign targeting both consumers and insurers to i...",
          "Type: products<br>Text: # Product Summary\n\n# Rellm: AI-Powered Enterprise Reinsurance Solution\n\n## Summary\n\nRellm is an inno...",
          "Type: products<br>Text: ### Seamless Integrations\nRellm's architecture is designed for effortless integration with existing ...",
          "Type: products<br>Text: ### Regulatory Compliance Tools\nRellm includes built-in compliance tracking features to help organiz...",
          "Type: products<br>Text: Join the growing number of organizations leveraging Rellm to enhance their reinsurance processes whi...",
          "Type: products<br>Text: Experience the future of reinsurance with Rellm, where innovation meets reliability. Let Insurellm h..."
         ],
         "type": "scatter3d",
         "x": [
          -0.8619061,
          -10.706052,
          -12.721243,
          53.430782,
          98.06451,
          111.93238,
          48.04496,
          70.082115,
          26.111599,
          94.83889,
          -41.76939,
          48.242596,
          -62.612534,
          21.639626,
          34.044964,
          9.626223,
          34.33734,
          -82.49403,
          94.21106,
          90.427826,
          75.85961,
          61.50567,
          30.833916,
          94.33352,
          -33.831734,
          -13.761391,
          68.177345,
          22.389368,
          68.39105,
          41.289085,
          -63.457253,
          50.29774,
          42.034073,
          -12.444423,
          54.419186,
          33.984665,
          25.13039,
          74.86563,
          -29.386358,
          16.857903,
          98.11697,
          75.27913,
          16.626513,
          44.915115,
          58.920757,
          49.600426,
          7.7209835,
          -62.633873,
          77.650154,
          69.590164,
          49.11389,
          59.178955,
          39.72251,
          65.686615,
          42.376175,
          16.694862,
          -22.414373,
          -66.66706,
          19.27672,
          -3.4471266,
          -69.90034,
          -98.06962,
          10.802145,
          -96.64904,
          -11.084483,
          1.8867519,
          18.582487,
          5.001872,
          16.63916,
          -111.21677,
          -11.133118,
          -49.75969,
          -85.39078,
          -77.21468,
          -49.937817,
          -28.976637,
          -48.80636,
          -74.96389,
          -49.54018,
          -34.450134,
          -51.69839,
          -8.939783,
          -0.55645335,
          -19.38721,
          -101.32174,
          -3.935931,
          -70.22704,
          -58.29297,
          -61.285442,
          -47.58574,
          -72.90224,
          -22.543936,
          -35.684994,
          -42.891144,
          -45.601055,
          -50.210968,
          -87.51547,
          -61.752514,
          31.771027,
          -75.81516,
          -83.85716,
          -44.757545,
          11.012025,
          -10.488922,
          -9.53682,
          -26.793682,
          12.937944,
          -7.75495,
          3.0553486,
          -24.869778,
          -8.787687,
          -27.758718,
          -4.1970696,
          -25.657719,
          -25.569914,
          -31.909798,
          -15.802803,
          8.471783,
          -2.8305275,
          -4.9267263,
          82.13054,
          26.626072,
          78.688095
         ],
         "y": [
          11.72093,
          36.686127,
          21.827978,
          -42.256805,
          -20.643627,
          7.5423384,
          -13.558138,
          -53.99235,
          -18.72868,
          -13.011366,
          -33.97102,
          -34.90168,
          -43.786057,
          -15.515303,
          -29.213242,
          -33.959404,
          -5.3138742,
          -34.048126,
          -29.940153,
          -13.79545,
          -8.364908,
          -11.086714,
          8.081083,
          5.523679,
          -6.793814,
          -71.96859,
          -67.67587,
          -84.73093,
          -32.12819,
          23.225292,
          -1.6038754,
          -94.878555,
          -73.40263,
          -11.037807,
          -7.7367105,
          -55.025673,
          -52.733345,
          -12.400723,
          -49.598133,
          69.69164,
          44.970222,
          11.50634,
          -1.4181489,
          -101.837265,
          -70.45794,
          -33.283787,
          19.716145,
          -60.88196,
          40.375443,
          26.208,
          24.388062,
          46.265415,
          38.897808,
          48.961678,
          49.66663,
          66.26881,
          72.97029,
          45.675987,
          26.946636,
          37.03983,
          -10.100926,
          12.473629,
          19.332136,
          7.963937,
          13.637858,
          -96.82013,
          63.01031,
          83.654625,
          86.81683,
          45.82438,
          76.5549,
          -7.9853754,
          -35.57115,
          59.037548,
          46.59941,
          27.878574,
          20.0279,
          22.19413,
          47.23077,
          8.274685,
          15.513471,
          -13.330904,
          23.629627,
          64.81364,
          44.94808,
          2.5674636,
          4.493973,
          -65.50993,
          64.578766,
          -46.001976,
          31.813482,
          25.707518,
          47.630386,
          45.495834,
          90.13832,
          82.8816,
          71.48591,
          77.40441,
          38.868664,
          16.843412,
          44.34256,
          37.402306,
          -36.493584,
          -35.2575,
          -7.860186,
          -12.381611,
          -28.977121,
          -42.01475,
          -55.8036,
          -37.1923,
          -88.90442,
          -69.36512,
          -23.008545,
          -60.073296,
          -71.60402,
          -50.409164,
          -52.3183,
          -54.814465,
          -11.437872,
          44.346336,
          -43.82622,
          -67.11269,
          19.050243
         ],
         "z": [
          58.714878,
          -4.880616,
          78.60264,
          -23.07286,
          37.46224,
          -0.7610926,
          -6.954256,
          24.945389,
          90.19883,
          78.46765,
          27.16726,
          15.1866255,
          51.140476,
          -43.7147,
          -71.970795,
          -53.9905,
          37.801254,
          15.110199,
          3.9392755,
          -19.079634,
          0.3550738,
          25.905973,
          73.457504,
          57.617844,
          42.705494,
          -57.88836,
          48.345535,
          18.423277,
          87.94048,
          -169.84966,
          66.927925,
          32.142082,
          7.444342,
          97.18193,
          -40.813084,
          35.50583,
          92.91845,
          63.21265,
          99.85178,
          25.14952,
          28.822104,
          76.870186,
          0.43588695,
          -18.527115,
          -30.106733,
          58.703117,
          24.358017,
          1.7129947,
          7.8668075,
          27.961935,
          0.20546226,
          -12.440947,
          41.283733,
          44.9436,
          19.043177,
          66.08913,
          -80.43369,
          -17.087471,
          -22.08052,
          -77.9505,
          -23.686323,
          -43.998924,
          -87.553345,
          -8.903008,
          -98.9544,
          -22.82521,
          -30.344133,
          -39.79768,
          -19.146072,
          -25.703024,
          -9.594416,
          -41.125454,
          -49.680912,
          25.081532,
          57.68182,
          17.58855,
          22.157368,
          11.886203,
          30.845228,
          -70.92146,
          -11.965571,
          -83.727646,
          -47.566593,
          -53.437546,
          1.4368656,
          -60.79731,
          -77.48868,
          -59.858128,
          -60.759804,
          -67.39146,
          -59.003994,
          -34.06049,
          -61.606625,
          -18.913467,
          -18.131092,
          -44.16998,
          -13.579548,
          -2.601483,
          -64.438286,
          -26.886902,
          -34.238663,
          -99.40027,
          15.883948,
          -0.35648477,
          -12.652769,
          2.1728876,
          -12.493666,
          39.246666,
          58.850178,
          66.09047,
          41.80412,
          57.80253,
          65.5461,
          14.307196,
          -9.331614,
          -22.200584,
          -41.69439,
          -14.310839,
          28.667574,
          39.401047,
          -28.298252,
          -52.712566,
          -39.777172
         ]
        }
       ],
       "layout": {
        "height": 700,
        "margin": {
         "b": 10,
         "l": 10,
         "r": 20,
         "t": 40
        },
        "scene": {
         "xaxis": {
          "title": {
           "text": "x"
          }
         },
         "yaxis": {
          "title": {
           "text": "y"
          }
         },
         "zaxis": {
          "title": {
           "text": "z"
          }
         }
        },
        "template": {
         "data": {
          "bar": [
           {
            "error_x": {
             "color": "#2a3f5f"
            },
            "error_y": {
             "color": "#2a3f5f"
            },
            "marker": {
             "line": {
              "color": "#E5ECF6",
              "width": 0.5
             },
             "pattern": {
              "fillmode": "overlay",
              "size": 10,
              "solidity": 0.2
             }
            },
            "type": "bar"
           }
          ],
          "barpolar": [
           {
            "marker": {
             "line": {
              "color": "#E5ECF6",
              "width": 0.5
             },
             "pattern": {
              "fillmode": "overlay",
              "size": 10,
              "solidity": 0.2
             }
            },
            "type": "barpolar"
           }
          ],
          "carpet": [
           {
            "aaxis": {
             "endlinecolor": "#2a3f5f",
             "gridcolor": "white",
             "linecolor": "white",
             "minorgridcolor": "white",
             "startlinecolor": "#2a3f5f"
            },
            "baxis": {
             "endlinecolor": "#2a3f5f",
             "gridcolor": "white",
             "linecolor": "white",
             "minorgridcolor": "white",
             "startlinecolor": "#2a3f5f"
            },
            "type": "carpet"
           }
          ],
          "choropleth": [
           {
            "colorbar": {
             "outlinewidth": 0,
             "ticks": ""
            },
            "type": "choropleth"
           }
          ],
          "contour": [
           {
            "colorbar": {
             "outlinewidth": 0,
             "ticks": ""
            },
            "colorscale": [
             [
              0,
              "#0d0887"
             ],
             [
              0.1111111111111111,
              "#46039f"
             ],
             [
              0.2222222222222222,
              "#7201a8"
             ],
             [
              0.3333333333333333,
              "#9c179e"
             ],
             [
              0.4444444444444444,
              "#bd3786"
             ],
             [
              0.5555555555555556,
              "#d8576b"
             ],
             [
              0.6666666666666666,
              "#ed7953"
             ],
             [
              0.7777777777777778,
              "#fb9f3a"
             ],
             [
              0.8888888888888888,
              "#fdca26"
             ],
             [
              1,
              "#f0f921"
             ]
            ],
            "type": "contour"
           }
          ],
          "contourcarpet": [
           {
            "colorbar": {
             "outlinewidth": 0,
             "ticks": ""
            },
            "type": "contourcarpet"
           }
          ],
          "heatmap": [
           {
            "colorbar": {
             "outlinewidth": 0,
             "ticks": ""
            },
            "colorscale": [
             [
              0,
              "#0d0887"
             ],
             [
              0.1111111111111111,
              "#46039f"
             ],
             [
              0.2222222222222222,
              "#7201a8"
             ],
             [
              0.3333333333333333,
              "#9c179e"
             ],
             [
              0.4444444444444444,
              "#bd3786"
             ],
             [
              0.5555555555555556,
              "#d8576b"
             ],
             [
              0.6666666666666666,
              "#ed7953"
             ],
             [
              0.7777777777777778,
              "#fb9f3a"
             ],
             [
              0.8888888888888888,
              "#fdca26"
             ],
             [
              1,
              "#f0f921"
             ]
            ],
            "type": "heatmap"
           }
          ],
          "heatmapgl": [
           {
            "colorbar": {
             "outlinewidth": 0,
             "ticks": ""
            },
            "colorscale": [
             [
              0,
              "#0d0887"
             ],
             [
              0.1111111111111111,
              "#46039f"
             ],
             [
              0.2222222222222222,
              "#7201a8"
             ],
             [
              0.3333333333333333,
              "#9c179e"
             ],
             [
              0.4444444444444444,
              "#bd3786"
             ],
             [
              0.5555555555555556,
              "#d8576b"
             ],
             [
              0.6666666666666666,
              "#ed7953"
             ],
             [
              0.7777777777777778,
              "#fb9f3a"
             ],
             [
              0.8888888888888888,
              "#fdca26"
             ],
             [
              1,
              "#f0f921"
             ]
            ],
            "type": "heatmapgl"
           }
          ],
          "histogram": [
           {
            "marker": {
             "pattern": {
              "fillmode": "overlay",
              "size": 10,
              "solidity": 0.2
             }
            },
            "type": "histogram"
           }
          ],
          "histogram2d": [
           {
            "colorbar": {
             "outlinewidth": 0,
             "ticks": ""
            },
            "colorscale": [
             [
              0,
              "#0d0887"
             ],
             [
              0.1111111111111111,
              "#46039f"
             ],
             [
              0.2222222222222222,
              "#7201a8"
             ],
             [
              0.3333333333333333,
              "#9c179e"
             ],
             [
              0.4444444444444444,
              "#bd3786"
             ],
             [
              0.5555555555555556,
              "#d8576b"
             ],
             [
              0.6666666666666666,
              "#ed7953"
             ],
             [
              0.7777777777777778,
              "#fb9f3a"
             ],
             [
              0.8888888888888888,
              "#fdca26"
             ],
             [
              1,
              "#f0f921"
             ]
            ],
            "type": "histogram2d"
           }
          ],
          "histogram2dcontour": [
           {
            "colorbar": {
             "outlinewidth": 0,
             "ticks": ""
            },
            "colorscale": [
             [
              0,
              "#0d0887"
             ],
             [
              0.1111111111111111,
              "#46039f"
             ],
             [
              0.2222222222222222,
              "#7201a8"
             ],
             [
              0.3333333333333333,
              "#9c179e"
             ],
             [
              0.4444444444444444,
              "#bd3786"
             ],
             [
              0.5555555555555556,
              "#d8576b"
             ],
             [
              0.6666666666666666,
              "#ed7953"
             ],
             [
              0.7777777777777778,
              "#fb9f3a"
             ],
             [
              0.8888888888888888,
              "#fdca26"
             ],
             [
              1,
              "#f0f921"
             ]
            ],
            "type": "histogram2dcontour"
           }
          ],
          "mesh3d": [
           {
            "colorbar": {
             "outlinewidth": 0,
             "ticks": ""
            },
            "type": "mesh3d"
           }
          ],
          "parcoords": [
           {
            "line": {
             "colorbar": {
              "outlinewidth": 0,
              "ticks": ""
             }
            },
            "type": "parcoords"
           }
          ],
          "pie": [
           {
            "automargin": true,
            "type": "pie"
           }
          ],
          "scatter": [
           {
            "fillpattern": {
             "fillmode": "overlay",
             "size": 10,
             "solidity": 0.2
            },
            "type": "scatter"
           }
          ],
          "scatter3d": [
           {
            "line": {
             "colorbar": {
              "outlinewidth": 0,
              "ticks": ""
             }
            },
            "marker": {
             "colorbar": {
              "outlinewidth": 0,
              "ticks": ""
             }
            },
            "type": "scatter3d"
           }
          ],
          "scattercarpet": [
           {
            "marker": {
             "colorbar": {
              "outlinewidth": 0,
              "ticks": ""
             }
            },
            "type": "scattercarpet"
           }
          ],
          "scattergeo": [
           {
            "marker": {
             "colorbar": {
              "outlinewidth": 0,
              "ticks": ""
             }
            },
            "type": "scattergeo"
           }
          ],
          "scattergl": [
           {
            "marker": {
             "colorbar": {
              "outlinewidth": 0,
              "ticks": ""
             }
            },
            "type": "scattergl"
           }
          ],
          "scattermapbox": [
           {
            "marker": {
             "colorbar": {
              "outlinewidth": 0,
              "ticks": ""
             }
            },
            "type": "scattermapbox"
           }
          ],
          "scatterpolar": [
           {
            "marker": {
             "colorbar": {
              "outlinewidth": 0,
              "ticks": ""
             }
            },
            "type": "scatterpolar"
           }
          ],
          "scatterpolargl": [
           {
            "marker": {
             "colorbar": {
              "outlinewidth": 0,
              "ticks": ""
             }
            },
            "type": "scatterpolargl"
           }
          ],
          "scatterternary": [
           {
            "marker": {
             "colorbar": {
              "outlinewidth": 0,
              "ticks": ""
             }
            },
            "type": "scatterternary"
           }
          ],
          "surface": [
           {
            "colorbar": {
             "outlinewidth": 0,
             "ticks": ""
            },
            "colorscale": [
             [
              0,
              "#0d0887"
             ],
             [
              0.1111111111111111,
              "#46039f"
             ],
             [
              0.2222222222222222,
              "#7201a8"
             ],
             [
              0.3333333333333333,
              "#9c179e"
             ],
             [
              0.4444444444444444,
              "#bd3786"
             ],
             [
              0.5555555555555556,
              "#d8576b"
             ],
             [
              0.6666666666666666,
              "#ed7953"
             ],
             [
              0.7777777777777778,
              "#fb9f3a"
             ],
             [
              0.8888888888888888,
              "#fdca26"
             ],
             [
              1,
              "#f0f921"
             ]
            ],
            "type": "surface"
           }
          ],
          "table": [
           {
            "cells": {
             "fill": {
              "color": "#EBF0F8"
             },
             "line": {
              "color": "white"
             }
            },
            "header": {
             "fill": {
              "color": "#C8D4E3"
             },
             "line": {
              "color": "white"
             }
            },
            "type": "table"
           }
          ]
         },
         "layout": {
          "annotationdefaults": {
           "arrowcolor": "#2a3f5f",
           "arrowhead": 0,
           "arrowwidth": 1
          },
          "autotypenumbers": "strict",
          "coloraxis": {
           "colorbar": {
            "outlinewidth": 0,
            "ticks": ""
           }
          },
          "colorscale": {
           "diverging": [
            [
             0,
             "#8e0152"
            ],
            [
             0.1,
             "#c51b7d"
            ],
            [
             0.2,
             "#de77ae"
            ],
            [
             0.3,
             "#f1b6da"
            ],
            [
             0.4,
             "#fde0ef"
            ],
            [
             0.5,
             "#f7f7f7"
            ],
            [
             0.6,
             "#e6f5d0"
            ],
            [
             0.7,
             "#b8e186"
            ],
            [
             0.8,
             "#7fbc41"
            ],
            [
             0.9,
             "#4d9221"
            ],
            [
             1,
             "#276419"
            ]
           ],
           "sequential": [
            [
             0,
             "#0d0887"
            ],
            [
             0.1111111111111111,
             "#46039f"
            ],
            [
             0.2222222222222222,
             "#7201a8"
            ],
            [
             0.3333333333333333,
             "#9c179e"
            ],
            [
             0.4444444444444444,
             "#bd3786"
            ],
            [
             0.5555555555555556,
             "#d8576b"
            ],
            [
             0.6666666666666666,
             "#ed7953"
            ],
            [
             0.7777777777777778,
             "#fb9f3a"
            ],
            [
             0.8888888888888888,
             "#fdca26"
            ],
            [
             1,
             "#f0f921"
            ]
           ],
           "sequentialminus": [
            [
             0,
             "#0d0887"
            ],
            [
             0.1111111111111111,
             "#46039f"
            ],
            [
             0.2222222222222222,
             "#7201a8"
            ],
            [
             0.3333333333333333,
             "#9c179e"
            ],
            [
             0.4444444444444444,
             "#bd3786"
            ],
            [
             0.5555555555555556,
             "#d8576b"
            ],
            [
             0.6666666666666666,
             "#ed7953"
            ],
            [
             0.7777777777777778,
             "#fb9f3a"
            ],
            [
             0.8888888888888888,
             "#fdca26"
            ],
            [
             1,
             "#f0f921"
            ]
           ]
          },
          "colorway": [
           "#636efa",
           "#EF553B",
           "#00cc96",
           "#ab63fa",
           "#FFA15A",
           "#19d3f3",
           "#FF6692",
           "#B6E880",
           "#FF97FF",
           "#FECB52"
          ],
          "font": {
           "color": "#2a3f5f"
          },
          "geo": {
           "bgcolor": "white",
           "lakecolor": "white",
           "landcolor": "#E5ECF6",
           "showlakes": true,
           "showland": true,
           "subunitcolor": "white"
          },
          "hoverlabel": {
           "align": "left"
          },
          "hovermode": "closest",
          "mapbox": {
           "style": "light"
          },
          "paper_bgcolor": "white",
          "plot_bgcolor": "#E5ECF6",
          "polar": {
           "angularaxis": {
            "gridcolor": "white",
            "linecolor": "white",
            "ticks": ""
           },
           "bgcolor": "#E5ECF6",
           "radialaxis": {
            "gridcolor": "white",
            "linecolor": "white",
            "ticks": ""
           }
          },
          "scene": {
           "xaxis": {
            "backgroundcolor": "#E5ECF6",
            "gridcolor": "white",
            "gridwidth": 2,
            "linecolor": "white",
            "showbackground": true,
            "ticks": "",
            "zerolinecolor": "white"
           },
           "yaxis": {
            "backgroundcolor": "#E5ECF6",
            "gridcolor": "white",
            "gridwidth": 2,
            "linecolor": "white",
            "showbackground": true,
            "ticks": "",
            "zerolinecolor": "white"
           },
           "zaxis": {
            "backgroundcolor": "#E5ECF6",
            "gridcolor": "white",
            "gridwidth": 2,
            "linecolor": "white",
            "showbackground": true,
            "ticks": "",
            "zerolinecolor": "white"
           }
          },
          "shapedefaults": {
           "line": {
            "color": "#2a3f5f"
           }
          },
          "ternary": {
           "aaxis": {
            "gridcolor": "white",
            "linecolor": "white",
            "ticks": ""
           },
           "baxis": {
            "gridcolor": "white",
            "linecolor": "white",
            "ticks": ""
           },
           "bgcolor": "#E5ECF6",
           "caxis": {
            "gridcolor": "white",
            "linecolor": "white",
            "ticks": ""
           }
          },
          "title": {
           "x": 0.05
          },
          "xaxis": {
           "automargin": true,
           "gridcolor": "white",
           "linecolor": "white",
           "ticks": "",
           "title": {
            "standoff": 15
           },
           "zerolinecolor": "white",
           "zerolinewidth": 2
          },
          "yaxis": {
           "automargin": true,
           "gridcolor": "white",
           "linecolor": "white",
           "ticks": "",
           "title": {
            "standoff": 15
           },
           "zerolinecolor": "white",
           "zerolinewidth": 2
          }
         }
        },
        "title": {
         "text": "3D FAISS Vector Store Visualization"
        },
        "width": 900
       }
      }
     },
     "metadata": {},
     "output_type": "display_data"
    }
   ],
   "source": [
    "# Let's try 3D!\n",
    "\n",
    "tsne = TSNE(n_components=3, random_state=42)\n",
    "reduced_vectors = tsne.fit_transform(vectors)\n",
    "\n",
    "# Create the 3D scatter plot\n",
    "fig = go.Figure(data=[go.Scatter3d(\n",
    "    x=reduced_vectors[:, 0],\n",
    "    y=reduced_vectors[:, 1],\n",
    "    z=reduced_vectors[:, 2],\n",
    "    mode='markers',\n",
    "    marker=dict(size=5, color=colors, opacity=0.8),\n",
    "    text=[f\"Type: {t}<br>Text: {d[:100]}...\" for t, d in zip(doc_types, documents)],\n",
    "    hoverinfo='text'\n",
    ")])\n",
    "\n",
    "fig.update_layout(\n",
    "    title='3D FAISS Vector Store Visualization',\n",
    "    scene=dict(xaxis_title='x', yaxis_title='y', zaxis_title='z'),\n",
    "    width=900,\n",
    "    height=700,\n",
    "    margin=dict(r=20, b=10, l=10, t=40)\n",
    ")\n",
    "\n",
    "fig.show()"
   ]
  },
  {
   "cell_type": "markdown",
   "id": "9468860b-86a2-41df-af01-b2400cc985be",
   "metadata": {},
   "source": [
    "## Time to use LangChain to bring it all together"
   ]
  },
  {
   "cell_type": "code",
   "execution_count": 19,
   "id": "6f7b6f0c",
   "metadata": {},
   "outputs": [],
   "source": [
    "from langchain_ollama import ChatOllama"
   ]
  },
  {
   "cell_type": "code",
   "execution_count": 20,
   "id": "129c7d1e-0094-4479-9459-f9360b95f244",
   "metadata": {},
   "outputs": [
    {
     "name": "stderr",
     "output_type": "stream",
     "text": [
      "C:\\Users\\Eda AYDIN\\AppData\\Local\\Temp\\ipykernel_5684\\71888866.py:5: LangChainDeprecationWarning:\n",
      "\n",
      "Please see the migration guide at: https://python.langchain.com/docs/versions/migrating_memory/\n",
      "\n"
     ]
    }
   ],
   "source": [
    "# create a new Chat with OpenAI\n",
    "llm = ChatOllama(model=\"llama3.2\", temperature=0.7)\n",
    "\n",
    "# set up the conversation memory for the chat\n",
    "memory = ConversationBufferMemory(memory_key='chat_history', return_messages=True)\n",
    "\n",
    "# the retriever is an abstraction over the VectorStore that will be used during RAG\n",
    "retriever = vectorstore.as_retriever()\n",
    "\n",
    "# putting it together: set up the conversation chain with the GPT 3.5 LLM, the vector store and memory\n",
    "conversation_chain = ConversationalRetrievalChain.from_llm(llm=llm, retriever=retriever, memory=memory)"
   ]
  },
  {
   "cell_type": "code",
   "execution_count": 21,
   "id": "968e7bf2-e862-4679-a11f-6c1efb6ec8ca",
   "metadata": {},
   "outputs": [
    {
     "name": "stdout",
     "output_type": "stream",
     "text": [
      "Insurellm is an insurance tech startup that was founded by Avery Lancaster in 2015. It offers four insurance software products, including Carllm and Homellm, which aim to transform the landscape of home and auto insurance by providing innovative solutions for both insurance providers and their customers. With over 200 employees across the US and more than 300 clients worldwide, Insurellm is a rapidly growing company that is committed to disrupting the industry with its cutting-edge products and services.\n"
     ]
    }
   ],
   "source": [
    "query = \"Can you describe Insurellm in a few sentences\"\n",
    "result = conversation_chain.invoke({\"question\":query})\n",
    "print(result[\"answer\"])"
   ]
  },
  {
   "cell_type": "code",
   "execution_count": 22,
   "id": "987dadc5-5d09-4059-8f2e-733d66ecc696",
   "metadata": {},
   "outputs": [],
   "source": [
    "memory = ConversationBufferMemory(memory_key='chat_history', return_messages=True)\n",
    "conversation_chain = ConversationalRetrievalChain.from_llm(llm=llm, retriever=retriever, memory=memory)"
   ]
  },
  {
   "cell_type": "markdown",
   "id": "bbbcb659-13ce-47ab-8a5e-01b930494964",
   "metadata": {},
   "source": [
    "## Now we will bring this up in Gradio using the Chat interface -\n",
    "\n",
    "A quick and easy way to prototype a chat with an LLM"
   ]
  },
  {
   "cell_type": "code",
   "execution_count": 23,
   "id": "c3536590-85c7-4155-bd87-ae78a1467670",
   "metadata": {},
   "outputs": [],
   "source": [
    "# Wrapping that in a function\n",
    "\n",
    "def chat(message, history):\n",
    "    result = conversation_chain.invoke({\"question\": message})\n",
    "    return result[\"answer\"]"
   ]
  },
  {
   "cell_type": "code",
   "execution_count": 24,
   "id": "b252d8c1-61a8-406d-b57a-8f708a62b014",
   "metadata": {},
   "outputs": [
    {
     "name": "stderr",
     "output_type": "stream",
     "text": [
      "c:\\Users\\Eda AYDIN\\AppData\\Local\\Programs\\Python\\Python312\\Lib\\site-packages\\gradio\\components\\chatbot.py:291: UserWarning:\n",
      "\n",
      "The 'tuples' format for chatbot messages is deprecated and will be removed in a future version of Gradio. Please set type='messages' instead, which uses openai-style 'role' and 'content' keys.\n",
      "\n"
     ]
    },
    {
     "name": "stdout",
     "output_type": "stream",
     "text": [
      "* Running on local URL:  http://127.0.0.1:7860\n",
      "\n",
      "To create a public link, set `share=True` in `launch()`.\n"
     ]
    },
    {
     "data": {
      "text/html": [
       "<div><iframe src=\"http://127.0.0.1:7860/\" width=\"100%\" height=\"500\" allow=\"autoplay; camera; microphone; clipboard-read; clipboard-write;\" frameborder=\"0\" allowfullscreen></iframe></div>"
      ],
      "text/plain": [
       "<IPython.core.display.HTML object>"
      ]
     },
     "metadata": {},
     "output_type": "display_data"
    }
   ],
   "source": [
    "# And in Gradio:\n",
    "\n",
    "view = gr.ChatInterface(chat).launch()"
   ]
  }
 ],
 "metadata": {
  "kernelspec": {
   "display_name": "Python 3",
   "language": "python",
   "name": "python3"
  },
  "language_info": {
   "codemirror_mode": {
    "name": "ipython",
    "version": 3
   },
   "file_extension": ".py",
   "mimetype": "text/x-python",
   "name": "python",
   "nbconvert_exporter": "python",
   "pygments_lexer": "ipython3",
   "version": "3.12.6"
  }
 },
 "nbformat": 4,
 "nbformat_minor": 5
}
